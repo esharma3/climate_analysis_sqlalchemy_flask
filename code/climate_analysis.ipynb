{
 "cells": [
  {
   "cell_type": "markdown",
   "metadata": {},
   "source": [
    "###  Climate Analysis and Exploration using SQLAlchemy ORM queries, Pandas, and Matplotlib"
   ]
  },
  {
   "cell_type": "code",
   "execution_count": 1,
   "metadata": {},
   "outputs": [
    {
     "data": {
      "application/javascript": [
       "\n",
       "            setTimeout(function() {\n",
       "                var nbb_cell_id = 1;\n",
       "                var nbb_unformatted_code = \"# importing dependencies here\\nimport os\\nimport numpy as np\\nimport pandas as pd\\nimport matplotlib.pyplot as plt\\nimport datetime\\n\\n%load_ext nb_black\\ndegree_sign = u\\\"\\\\N{DEGREE SIGN}\\\"\";\n",
       "                var nbb_formatted_code = \"# importing dependencies here\\nimport os\\nimport numpy as np\\nimport pandas as pd\\nimport matplotlib.pyplot as plt\\nimport datetime\\n\\n%load_ext nb_black\\ndegree_sign = u\\\"\\\\N{DEGREE SIGN}\\\"\";\n",
       "                var nbb_cells = Jupyter.notebook.get_cells();\n",
       "                for (var i = 0; i < nbb_cells.length; ++i) {\n",
       "                    if (nbb_cells[i].input_prompt_number == nbb_cell_id) {\n",
       "                        if (nbb_cells[i].get_text() == nbb_unformatted_code) {\n",
       "                             nbb_cells[i].set_text(nbb_formatted_code);\n",
       "                        }\n",
       "                        break;\n",
       "                    }\n",
       "                }\n",
       "            }, 500);\n",
       "            "
      ],
      "text/plain": [
       "<IPython.core.display.Javascript object>"
      ]
     },
     "metadata": {},
     "output_type": "display_data"
    }
   ],
   "source": [
    "# importing dependencies here\n",
    "import os\n",
    "import numpy as np\n",
    "import pandas as pd\n",
    "import matplotlib.pyplot as plt\n",
    "import datetime\n",
    "\n",
    "%load_ext nb_black\n",
    "degree_sign = u\"\\N{DEGREE SIGN}\""
   ]
  },
  {
   "cell_type": "markdown",
   "metadata": {},
   "source": [
    "### Reflect Tables into SQLAlchemy ORM"
   ]
  },
  {
   "cell_type": "code",
   "execution_count": 2,
   "metadata": {},
   "outputs": [
    {
     "data": {
      "application/javascript": [
       "\n",
       "            setTimeout(function() {\n",
       "                var nbb_cell_id = 2;\n",
       "                var nbb_unformatted_code = \"# Python SQL toolkit and Object Relational Mapper\\nimport sqlalchemy\\nfrom sqlalchemy.ext.automap import automap_base\\nfrom sqlalchemy.orm import Session\\nfrom sqlalchemy import create_engine, func, inspect\";\n",
       "                var nbb_formatted_code = \"# Python SQL toolkit and Object Relational Mapper\\nimport sqlalchemy\\nfrom sqlalchemy.ext.automap import automap_base\\nfrom sqlalchemy.orm import Session\\nfrom sqlalchemy import create_engine, func, inspect\";\n",
       "                var nbb_cells = Jupyter.notebook.get_cells();\n",
       "                for (var i = 0; i < nbb_cells.length; ++i) {\n",
       "                    if (nbb_cells[i].input_prompt_number == nbb_cell_id) {\n",
       "                        if (nbb_cells[i].get_text() == nbb_unformatted_code) {\n",
       "                             nbb_cells[i].set_text(nbb_formatted_code);\n",
       "                        }\n",
       "                        break;\n",
       "                    }\n",
       "                }\n",
       "            }, 500);\n",
       "            "
      ],
      "text/plain": [
       "<IPython.core.display.Javascript object>"
      ]
     },
     "metadata": {},
     "output_type": "display_data"
    }
   ],
   "source": [
    "# Python SQL toolkit and Object Relational Mapper\n",
    "import sqlalchemy\n",
    "from sqlalchemy.ext.automap import automap_base\n",
    "from sqlalchemy.orm import Session\n",
    "from sqlalchemy import create_engine, func, inspect"
   ]
  },
  {
   "cell_type": "code",
   "execution_count": 3,
   "metadata": {},
   "outputs": [
    {
     "data": {
      "application/javascript": [
       "\n",
       "            setTimeout(function() {\n",
       "                var nbb_cell_id = 3;\n",
       "                var nbb_unformatted_code = \"db_path = os.path.join(\\\"..\\\", \\\"Resources\\\", \\\"hawaii.sqlite\\\")\\nengine = create_engine(f\\\"sqlite:///{db_path}\\\")\";\n",
       "                var nbb_formatted_code = \"db_path = os.path.join(\\\"..\\\", \\\"Resources\\\", \\\"hawaii.sqlite\\\")\\nengine = create_engine(f\\\"sqlite:///{db_path}\\\")\";\n",
       "                var nbb_cells = Jupyter.notebook.get_cells();\n",
       "                for (var i = 0; i < nbb_cells.length; ++i) {\n",
       "                    if (nbb_cells[i].input_prompt_number == nbb_cell_id) {\n",
       "                        if (nbb_cells[i].get_text() == nbb_unformatted_code) {\n",
       "                             nbb_cells[i].set_text(nbb_formatted_code);\n",
       "                        }\n",
       "                        break;\n",
       "                    }\n",
       "                }\n",
       "            }, 500);\n",
       "            "
      ],
      "text/plain": [
       "<IPython.core.display.Javascript object>"
      ]
     },
     "metadata": {},
     "output_type": "display_data"
    }
   ],
   "source": [
    "db_path = os.path.join(\"..\", \"Resources\", \"hawaii.sqlite\")\n",
    "engine = create_engine(f\"sqlite:///{db_path}\")"
   ]
  },
  {
   "cell_type": "code",
   "execution_count": 4,
   "metadata": {},
   "outputs": [
    {
     "data": {
      "application/javascript": [
       "\n",
       "            setTimeout(function() {\n",
       "                var nbb_cell_id = 4;\n",
       "                var nbb_unformatted_code = \"inspector = inspect(engine)\";\n",
       "                var nbb_formatted_code = \"inspector = inspect(engine)\";\n",
       "                var nbb_cells = Jupyter.notebook.get_cells();\n",
       "                for (var i = 0; i < nbb_cells.length; ++i) {\n",
       "                    if (nbb_cells[i].input_prompt_number == nbb_cell_id) {\n",
       "                        if (nbb_cells[i].get_text() == nbb_unformatted_code) {\n",
       "                             nbb_cells[i].set_text(nbb_formatted_code);\n",
       "                        }\n",
       "                        break;\n",
       "                    }\n",
       "                }\n",
       "            }, 500);\n",
       "            "
      ],
      "text/plain": [
       "<IPython.core.display.Javascript object>"
      ]
     },
     "metadata": {},
     "output_type": "display_data"
    }
   ],
   "source": [
    "inspector = inspect(engine)"
   ]
  },
  {
   "cell_type": "code",
   "execution_count": 5,
   "metadata": {},
   "outputs": [
    {
     "data": {
      "application/javascript": [
       "\n",
       "            setTimeout(function() {\n",
       "                var nbb_cell_id = 5;\n",
       "                var nbb_unformatted_code = \"# reflect an existing database into a new model\\nBase = automap_base()\\n# reflect the tables\\nBase.prepare(engine, reflect=True)\";\n",
       "                var nbb_formatted_code = \"# reflect an existing database into a new model\\nBase = automap_base()\\n# reflect the tables\\nBase.prepare(engine, reflect=True)\";\n",
       "                var nbb_cells = Jupyter.notebook.get_cells();\n",
       "                for (var i = 0; i < nbb_cells.length; ++i) {\n",
       "                    if (nbb_cells[i].input_prompt_number == nbb_cell_id) {\n",
       "                        if (nbb_cells[i].get_text() == nbb_unformatted_code) {\n",
       "                             nbb_cells[i].set_text(nbb_formatted_code);\n",
       "                        }\n",
       "                        break;\n",
       "                    }\n",
       "                }\n",
       "            }, 500);\n",
       "            "
      ],
      "text/plain": [
       "<IPython.core.display.Javascript object>"
      ]
     },
     "metadata": {},
     "output_type": "display_data"
    }
   ],
   "source": [
    "# reflect an existing database into a new model\n",
    "Base = automap_base()\n",
    "# reflect the tables\n",
    "Base.prepare(engine, reflect=True)"
   ]
  },
  {
   "cell_type": "code",
   "execution_count": 6,
   "metadata": {},
   "outputs": [
    {
     "data": {
      "text/plain": [
       "['measurement', 'station']"
      ]
     },
     "execution_count": 6,
     "metadata": {},
     "output_type": "execute_result"
    },
    {
     "data": {
      "application/javascript": [
       "\n",
       "            setTimeout(function() {\n",
       "                var nbb_cell_id = 6;\n",
       "                var nbb_unformatted_code = \"# to view all of the classes that automap found\\nBase.classes.keys()\";\n",
       "                var nbb_formatted_code = \"# to view all of the classes that automap found\\nBase.classes.keys()\";\n",
       "                var nbb_cells = Jupyter.notebook.get_cells();\n",
       "                for (var i = 0; i < nbb_cells.length; ++i) {\n",
       "                    if (nbb_cells[i].input_prompt_number == nbb_cell_id) {\n",
       "                        if (nbb_cells[i].get_text() == nbb_unformatted_code) {\n",
       "                             nbb_cells[i].set_text(nbb_formatted_code);\n",
       "                        }\n",
       "                        break;\n",
       "                    }\n",
       "                }\n",
       "            }, 500);\n",
       "            "
      ],
      "text/plain": [
       "<IPython.core.display.Javascript object>"
      ]
     },
     "metadata": {},
     "output_type": "display_data"
    }
   ],
   "source": [
    "# to view all of the classes that automap found\n",
    "Base.classes.keys()"
   ]
  },
  {
   "cell_type": "code",
   "execution_count": 7,
   "metadata": {},
   "outputs": [
    {
     "data": {
      "application/javascript": [
       "\n",
       "            setTimeout(function() {\n",
       "                var nbb_cell_id = 7;\n",
       "                var nbb_unformatted_code = \"# Save references to each table\\nMeasurement = Base.classes.measurement\\nStation = Base.classes.station\";\n",
       "                var nbb_formatted_code = \"# Save references to each table\\nMeasurement = Base.classes.measurement\\nStation = Base.classes.station\";\n",
       "                var nbb_cells = Jupyter.notebook.get_cells();\n",
       "                for (var i = 0; i < nbb_cells.length; ++i) {\n",
       "                    if (nbb_cells[i].input_prompt_number == nbb_cell_id) {\n",
       "                        if (nbb_cells[i].get_text() == nbb_unformatted_code) {\n",
       "                             nbb_cells[i].set_text(nbb_formatted_code);\n",
       "                        }\n",
       "                        break;\n",
       "                    }\n",
       "                }\n",
       "            }, 500);\n",
       "            "
      ],
      "text/plain": [
       "<IPython.core.display.Javascript object>"
      ]
     },
     "metadata": {},
     "output_type": "display_data"
    }
   ],
   "source": [
    "# Save references to each table\n",
    "Measurement = Base.classes.measurement\n",
    "Station = Base.classes.station"
   ]
  },
  {
   "cell_type": "code",
   "execution_count": 8,
   "metadata": {},
   "outputs": [
    {
     "data": {
      "application/javascript": [
       "\n",
       "            setTimeout(function() {\n",
       "                var nbb_cell_id = 8;\n",
       "                var nbb_unformatted_code = \"# creating session (link) from Python to the DB\\nsession = Session(engine)\";\n",
       "                var nbb_formatted_code = \"# creating session (link) from Python to the DB\\nsession = Session(engine)\";\n",
       "                var nbb_cells = Jupyter.notebook.get_cells();\n",
       "                for (var i = 0; i < nbb_cells.length; ++i) {\n",
       "                    if (nbb_cells[i].input_prompt_number == nbb_cell_id) {\n",
       "                        if (nbb_cells[i].get_text() == nbb_unformatted_code) {\n",
       "                             nbb_cells[i].set_text(nbb_formatted_code);\n",
       "                        }\n",
       "                        break;\n",
       "                    }\n",
       "                }\n",
       "            }, 500);\n",
       "            "
      ],
      "text/plain": [
       "<IPython.core.display.Javascript object>"
      ]
     },
     "metadata": {},
     "output_type": "display_data"
    }
   ],
   "source": [
    "# creating session (link) from Python to the DB\n",
    "session = Session(engine)"
   ]
  },
  {
   "cell_type": "code",
   "execution_count": 9,
   "metadata": {},
   "outputs": [
    {
     "name": "stdout",
     "output_type": "stream",
     "text": [
      "Columns and their types in Measurement Table\n",
      "--------------------------------------------\n",
      "id INTEGER\n",
      "station TEXT\n",
      "date TEXT\n",
      "prcp FLOAT\n",
      "tobs FLOAT\n"
     ]
    },
    {
     "data": {
      "application/javascript": [
       "\n",
       "            setTimeout(function() {\n",
       "                var nbb_cell_id = 9;\n",
       "                var nbb_unformatted_code = \"columns = inspector.get_columns(\\\"Measurement\\\")\\n\\nprint(\\\"Columns and their types in Measurement Table\\\")\\nprint(\\\"--------------------------------------------\\\")\\nfor col in columns:\\n    print(col[\\\"name\\\"], col[\\\"type\\\"])\";\n",
       "                var nbb_formatted_code = \"columns = inspector.get_columns(\\\"Measurement\\\")\\n\\nprint(\\\"Columns and their types in Measurement Table\\\")\\nprint(\\\"--------------------------------------------\\\")\\nfor col in columns:\\n    print(col[\\\"name\\\"], col[\\\"type\\\"])\";\n",
       "                var nbb_cells = Jupyter.notebook.get_cells();\n",
       "                for (var i = 0; i < nbb_cells.length; ++i) {\n",
       "                    if (nbb_cells[i].input_prompt_number == nbb_cell_id) {\n",
       "                        if (nbb_cells[i].get_text() == nbb_unformatted_code) {\n",
       "                             nbb_cells[i].set_text(nbb_formatted_code);\n",
       "                        }\n",
       "                        break;\n",
       "                    }\n",
       "                }\n",
       "            }, 500);\n",
       "            "
      ],
      "text/plain": [
       "<IPython.core.display.Javascript object>"
      ]
     },
     "metadata": {},
     "output_type": "display_data"
    }
   ],
   "source": [
    "columns = inspector.get_columns(\"Measurement\")\n",
    "\n",
    "print(\"Columns and their types in Measurement Table\")\n",
    "print(\"--------------------------------------------\")\n",
    "for col in columns:\n",
    "    print(col[\"name\"], col[\"type\"])"
   ]
  },
  {
   "cell_type": "code",
   "execution_count": 10,
   "metadata": {},
   "outputs": [
    {
     "name": "stdout",
     "output_type": "stream",
     "text": [
      "Columns and their types in Station Table\n",
      "--------------------------------------------\n",
      "id INTEGER\n",
      "station TEXT\n",
      "name TEXT\n",
      "latitude FLOAT\n",
      "longitude FLOAT\n",
      "elevation FLOAT\n"
     ]
    },
    {
     "data": {
      "application/javascript": [
       "\n",
       "            setTimeout(function() {\n",
       "                var nbb_cell_id = 10;\n",
       "                var nbb_unformatted_code = \"inspector.get_columns(\\\"Station\\\")\\n\\ncolumns = inspector.get_columns(\\\"Station\\\")\\nprint(\\\"Columns and their types in Station Table\\\")\\nprint(\\\"--------------------------------------------\\\")\\nfor col in columns:\\n    print(col[\\\"name\\\"], col[\\\"type\\\"])\";\n",
       "                var nbb_formatted_code = \"inspector.get_columns(\\\"Station\\\")\\n\\ncolumns = inspector.get_columns(\\\"Station\\\")\\nprint(\\\"Columns and their types in Station Table\\\")\\nprint(\\\"--------------------------------------------\\\")\\nfor col in columns:\\n    print(col[\\\"name\\\"], col[\\\"type\\\"])\";\n",
       "                var nbb_cells = Jupyter.notebook.get_cells();\n",
       "                for (var i = 0; i < nbb_cells.length; ++i) {\n",
       "                    if (nbb_cells[i].input_prompt_number == nbb_cell_id) {\n",
       "                        if (nbb_cells[i].get_text() == nbb_unformatted_code) {\n",
       "                             nbb_cells[i].set_text(nbb_formatted_code);\n",
       "                        }\n",
       "                        break;\n",
       "                    }\n",
       "                }\n",
       "            }, 500);\n",
       "            "
      ],
      "text/plain": [
       "<IPython.core.display.Javascript object>"
      ]
     },
     "metadata": {},
     "output_type": "display_data"
    }
   ],
   "source": [
    "inspector.get_columns(\"Station\")\n",
    "\n",
    "columns = inspector.get_columns(\"Station\")\n",
    "print(\"Columns and their types in Station Table\")\n",
    "print(\"--------------------------------------------\")\n",
    "for col in columns:\n",
    "    print(col[\"name\"], col[\"type\"])"
   ]
  },
  {
   "cell_type": "markdown",
   "metadata": {},
   "source": [
    "### Precipitation Analysis\n",
    "\n",
    "* Design a query to retrieve the last 12 months of precipitation data.\n",
    "\n",
    "* Select only the `date` and `prcp` values.\n",
    "\n",
    "* Load the query results into a Pandas DataFrame and set the index to the date column.\n",
    "\n",
    "* Sort the DataFrame values by `date`.\n",
    "\n",
    "* Plot the results using the DataFrame `plot` method.\n",
    "\n",
    "* Use Pandas to print the summary statistics for the precipitation data."
   ]
  },
  {
   "cell_type": "code",
   "execution_count": 11,
   "metadata": {},
   "outputs": [
    {
     "data": {
      "text/plain": [
       "('2017-08-23')"
      ]
     },
     "execution_count": 11,
     "metadata": {},
     "output_type": "execute_result"
    },
    {
     "data": {
      "application/javascript": [
       "\n",
       "            setTimeout(function() {\n",
       "                var nbb_cell_id = 11;\n",
       "                var nbb_unformatted_code = \"# checking the last date for precipitation data in the measurement table to extract last 12 months of data from the \\\"last date\\\"\\nlatest_date = session.query(Measurement.date).order_by(Measurement.date.desc()).first()\\nlatest_date\";\n",
       "                var nbb_formatted_code = \"# checking the last date for precipitation data in the measurement table to extract last 12 months of data from the \\\"last date\\\"\\nlatest_date = session.query(Measurement.date).order_by(Measurement.date.desc()).first()\\nlatest_date\";\n",
       "                var nbb_cells = Jupyter.notebook.get_cells();\n",
       "                for (var i = 0; i < nbb_cells.length; ++i) {\n",
       "                    if (nbb_cells[i].input_prompt_number == nbb_cell_id) {\n",
       "                        if (nbb_cells[i].get_text() == nbb_unformatted_code) {\n",
       "                             nbb_cells[i].set_text(nbb_formatted_code);\n",
       "                        }\n",
       "                        break;\n",
       "                    }\n",
       "                }\n",
       "            }, 500);\n",
       "            "
      ],
      "text/plain": [
       "<IPython.core.display.Javascript object>"
      ]
     },
     "metadata": {},
     "output_type": "display_data"
    }
   ],
   "source": [
    "# checking the last date for precipitation data in the measurement table to extract last 12 months of data from the \"last date\"\n",
    "latest_date = session.query(Measurement.date).order_by(Measurement.date.desc()).first()\n",
    "latest_date"
   ]
  },
  {
   "cell_type": "code",
   "execution_count": 12,
   "metadata": {},
   "outputs": [
    {
     "data": {
      "text/plain": [
       "datetime.date(2016, 8, 23)"
      ]
     },
     "execution_count": 12,
     "metadata": {},
     "output_type": "execute_result"
    },
    {
     "data": {
      "application/javascript": [
       "\n",
       "            setTimeout(function() {\n",
       "                var nbb_cell_id = 12;\n",
       "                var nbb_unformatted_code = \"date_twelve_months_ago = datetime.date(2017, 8, 23) - datetime.timedelta(days=365)\\ndate_twelve_months_ago\";\n",
       "                var nbb_formatted_code = \"date_twelve_months_ago = datetime.date(2017, 8, 23) - datetime.timedelta(days=365)\\ndate_twelve_months_ago\";\n",
       "                var nbb_cells = Jupyter.notebook.get_cells();\n",
       "                for (var i = 0; i < nbb_cells.length; ++i) {\n",
       "                    if (nbb_cells[i].input_prompt_number == nbb_cell_id) {\n",
       "                        if (nbb_cells[i].get_text() == nbb_unformatted_code) {\n",
       "                             nbb_cells[i].set_text(nbb_formatted_code);\n",
       "                        }\n",
       "                        break;\n",
       "                    }\n",
       "                }\n",
       "            }, 500);\n",
       "            "
      ],
      "text/plain": [
       "<IPython.core.display.Javascript object>"
      ]
     },
     "metadata": {},
     "output_type": "display_data"
    }
   ],
   "source": [
    "date_twelve_months_ago = datetime.date(2017, 8, 23) - datetime.timedelta(days=365)\n",
    "date_twelve_months_ago"
   ]
  },
  {
   "cell_type": "code",
   "execution_count": 13,
   "metadata": {},
   "outputs": [
    {
     "data": {
      "application/javascript": [
       "\n",
       "            setTimeout(function() {\n",
       "                var nbb_cell_id = 13;\n",
       "                var nbb_unformatted_code = \"# query to retrieve the last 12 months of precipitation data\\nprcp_data = (\\n    session.query(Measurement.date, Measurement.prcp)\\n    .filter(\\n        Measurement.date\\n        > date_twelve_months_ago\\n        #         Measurement.date.between(datetime.date(2016, 8, 24), datetime.date(2017, 8, 24))\\n    )\\n    .group_by(Measurement.date)\\n    .all()\\n)\";\n",
       "                var nbb_formatted_code = \"# query to retrieve the last 12 months of precipitation data\\nprcp_data = (\\n    session.query(Measurement.date, Measurement.prcp)\\n    .filter(\\n        Measurement.date\\n        > date_twelve_months_ago\\n        #         Measurement.date.between(datetime.date(2016, 8, 24), datetime.date(2017, 8, 24))\\n    )\\n    .group_by(Measurement.date)\\n    .all()\\n)\";\n",
       "                var nbb_cells = Jupyter.notebook.get_cells();\n",
       "                for (var i = 0; i < nbb_cells.length; ++i) {\n",
       "                    if (nbb_cells[i].input_prompt_number == nbb_cell_id) {\n",
       "                        if (nbb_cells[i].get_text() == nbb_unformatted_code) {\n",
       "                             nbb_cells[i].set_text(nbb_formatted_code);\n",
       "                        }\n",
       "                        break;\n",
       "                    }\n",
       "                }\n",
       "            }, 500);\n",
       "            "
      ],
      "text/plain": [
       "<IPython.core.display.Javascript object>"
      ]
     },
     "metadata": {},
     "output_type": "display_data"
    }
   ],
   "source": [
    "# query to retrieve the last 12 months of precipitation data\n",
    "prcp_data = (\n",
    "    session.query(Measurement.date, Measurement.prcp)\n",
    "    .filter(\n",
    "        Measurement.date\n",
    "        > date_twelve_months_ago\n",
    "    )\n",
    "    .group_by(Measurement.date)\n",
    "    .all()\n",
    ")"
   ]
  },
  {
   "cell_type": "code",
   "execution_count": 14,
   "metadata": {},
   "outputs": [
    {
     "data": {
      "text/plain": [
       "365"
      ]
     },
     "execution_count": 14,
     "metadata": {},
     "output_type": "execute_result"
    },
    {
     "data": {
      "application/javascript": [
       "\n",
       "            setTimeout(function() {\n",
       "                var nbb_cell_id = 14;\n",
       "                var nbb_unformatted_code = \"len(prcp_data)\";\n",
       "                var nbb_formatted_code = \"len(prcp_data)\";\n",
       "                var nbb_cells = Jupyter.notebook.get_cells();\n",
       "                for (var i = 0; i < nbb_cells.length; ++i) {\n",
       "                    if (nbb_cells[i].input_prompt_number == nbb_cell_id) {\n",
       "                        if (nbb_cells[i].get_text() == nbb_unformatted_code) {\n",
       "                             nbb_cells[i].set_text(nbb_formatted_code);\n",
       "                        }\n",
       "                        break;\n",
       "                    }\n",
       "                }\n",
       "            }, 500);\n",
       "            "
      ],
      "text/plain": [
       "<IPython.core.display.Javascript object>"
      ]
     },
     "metadata": {},
     "output_type": "display_data"
    }
   ],
   "source": [
    "len(prcp_data)"
   ]
  },
  {
   "cell_type": "code",
   "execution_count": 15,
   "metadata": {},
   "outputs": [
    {
     "data": {
      "application/javascript": [
       "\n",
       "            setTimeout(function() {\n",
       "                var nbb_cell_id = 15;\n",
       "                var nbb_unformatted_code = \"# storing the last 12 months of precipitation data in a dataframe\\nprcp_df = (\\n    pd.DataFrame(prcp_data, columns=[\\\"date\\\", \\\"prcp\\\"])\\n    .sort_values(\\\"date\\\")\\n    .set_index(\\\"date\\\")\\n)\";\n",
       "                var nbb_formatted_code = \"# storing the last 12 months of precipitation data in a dataframe\\nprcp_df = (\\n    pd.DataFrame(prcp_data, columns=[\\\"date\\\", \\\"prcp\\\"])\\n    .sort_values(\\\"date\\\")\\n    .set_index(\\\"date\\\")\\n)\";\n",
       "                var nbb_cells = Jupyter.notebook.get_cells();\n",
       "                for (var i = 0; i < nbb_cells.length; ++i) {\n",
       "                    if (nbb_cells[i].input_prompt_number == nbb_cell_id) {\n",
       "                        if (nbb_cells[i].get_text() == nbb_unformatted_code) {\n",
       "                             nbb_cells[i].set_text(nbb_formatted_code);\n",
       "                        }\n",
       "                        break;\n",
       "                    }\n",
       "                }\n",
       "            }, 500);\n",
       "            "
      ],
      "text/plain": [
       "<IPython.core.display.Javascript object>"
      ]
     },
     "metadata": {},
     "output_type": "display_data"
    }
   ],
   "source": [
    "# storing the last 12 months of precipitation data in a dataframe\n",
    "prcp_df = (\n",
    "    pd.DataFrame(prcp_data, columns=[\"date\", \"prcp\"])\n",
    "    .sort_values(\"date\")\n",
    "    .set_index(\"date\")\n",
    ")"
   ]
  },
  {
   "cell_type": "code",
   "execution_count": 16,
   "metadata": {},
   "outputs": [
    {
     "data": {
      "text/html": [
       "<div>\n",
       "<style scoped>\n",
       "    .dataframe tbody tr th:only-of-type {\n",
       "        vertical-align: middle;\n",
       "    }\n",
       "\n",
       "    .dataframe tbody tr th {\n",
       "        vertical-align: top;\n",
       "    }\n",
       "\n",
       "    .dataframe thead th {\n",
       "        text-align: right;\n",
       "    }\n",
       "</style>\n",
       "<table border=\"1\" class=\"dataframe\">\n",
       "  <thead>\n",
       "    <tr style=\"text-align: right;\">\n",
       "      <th></th>\n",
       "      <th>prcp</th>\n",
       "    </tr>\n",
       "    <tr>\n",
       "      <th>date</th>\n",
       "      <th></th>\n",
       "    </tr>\n",
       "  </thead>\n",
       "  <tbody>\n",
       "    <tr>\n",
       "      <th>2016-08-24</th>\n",
       "      <td>0.08</td>\n",
       "    </tr>\n",
       "    <tr>\n",
       "      <th>2016-08-25</th>\n",
       "      <td>0.08</td>\n",
       "    </tr>\n",
       "    <tr>\n",
       "      <th>2016-08-26</th>\n",
       "      <td>0.00</td>\n",
       "    </tr>\n",
       "    <tr>\n",
       "      <th>2016-08-27</th>\n",
       "      <td>0.00</td>\n",
       "    </tr>\n",
       "    <tr>\n",
       "      <th>2016-08-28</th>\n",
       "      <td>0.01</td>\n",
       "    </tr>\n",
       "  </tbody>\n",
       "</table>\n",
       "</div>"
      ],
      "text/plain": [
       "            prcp\n",
       "date            \n",
       "2016-08-24  0.08\n",
       "2016-08-25  0.08\n",
       "2016-08-26  0.00\n",
       "2016-08-27  0.00\n",
       "2016-08-28  0.01"
      ]
     },
     "execution_count": 16,
     "metadata": {},
     "output_type": "execute_result"
    },
    {
     "data": {
      "application/javascript": [
       "\n",
       "            setTimeout(function() {\n",
       "                var nbb_cell_id = 16;\n",
       "                var nbb_unformatted_code = \"prcp_df.head()\";\n",
       "                var nbb_formatted_code = \"prcp_df.head()\";\n",
       "                var nbb_cells = Jupyter.notebook.get_cells();\n",
       "                for (var i = 0; i < nbb_cells.length; ++i) {\n",
       "                    if (nbb_cells[i].input_prompt_number == nbb_cell_id) {\n",
       "                        if (nbb_cells[i].get_text() == nbb_unformatted_code) {\n",
       "                             nbb_cells[i].set_text(nbb_formatted_code);\n",
       "                        }\n",
       "                        break;\n",
       "                    }\n",
       "                }\n",
       "            }, 500);\n",
       "            "
      ],
      "text/plain": [
       "<IPython.core.display.Javascript object>"
      ]
     },
     "metadata": {},
     "output_type": "display_data"
    }
   ],
   "source": [
    "prcp_df.head()"
   ]
  },
  {
   "cell_type": "code",
   "execution_count": 17,
   "metadata": {},
   "outputs": [
    {
     "data": {
      "image/png": "[encoded data removed]",
      "text/plain": [
       "<Figure size 1008x432 with 1 Axes>"
      ]
     },
     "metadata": {
      "needs_background": "light"
     },
     "output_type": "display_data"
    },
    {
     "data": {
      "application/javascript": [
       "\n",
       "            setTimeout(function() {\n",
       "                var nbb_cell_id = 17;\n",
       "                var nbb_unformatted_code = \"# plotting last 12 months of precipitation data\\nprcp_df.plot(figsize=(14, 6), legend=None)\\nplt.xlabel(None)\\nplt.ylabel(\\\"Precipitation (inches)\\\")\\nplt.title(\\n    \\\"Precipitation (inches) data for Honolulu, Hawaii from August 2016 to August 2017\\\"\\n)\\nplt.show()\";\n",
       "                var nbb_formatted_code = \"# plotting last 12 months of precipitation data\\nprcp_df.plot(figsize=(14, 6), legend=None)\\nplt.xlabel(None)\\nplt.ylabel(\\\"Precipitation (inches)\\\")\\nplt.title(\\n    \\\"Precipitation (inches) data for Honolulu, Hawaii from August 2016 to August 2017\\\"\\n)\\nplt.show()\";\n",
       "                var nbb_cells = Jupyter.notebook.get_cells();\n",
       "                for (var i = 0; i < nbb_cells.length; ++i) {\n",
       "                    if (nbb_cells[i].input_prompt_number == nbb_cell_id) {\n",
       "                        if (nbb_cells[i].get_text() == nbb_unformatted_code) {\n",
       "                             nbb_cells[i].set_text(nbb_formatted_code);\n",
       "                        }\n",
       "                        break;\n",
       "                    }\n",
       "                }\n",
       "            }, 500);\n",
       "            "
      ],
      "text/plain": [
       "<IPython.core.display.Javascript object>"
      ]
     },
     "metadata": {},
     "output_type": "display_data"
    }
   ],
   "source": [
    "# plotting last 12 months of precipitation data\n",
    "prcp_df.plot(figsize=(14, 6), legend=None)\n",
    "plt.xlabel(None)\n",
    "plt.ylabel(\"Precipitation (inches)\")\n",
    "plt.title(\n",
    "    \"Precipitation (inches) data for Honolulu, Hawaii from August 2016 to August 2017\"\n",
    ")\n",
    "plt.show()"
   ]
  },
  {
   "cell_type": "code",
   "execution_count": 18,
   "metadata": {},
   "outputs": [
    {
     "data": {
      "text/html": [
       "<div>\n",
       "<style scoped>\n",
       "    .dataframe tbody tr th:only-of-type {\n",
       "        vertical-align: middle;\n",
       "    }\n",
       "\n",
       "    .dataframe tbody tr th {\n",
       "        vertical-align: top;\n",
       "    }\n",
       "\n",
       "    .dataframe thead th {\n",
       "        text-align: right;\n",
       "    }\n",
       "</style>\n",
       "<table border=\"1\" class=\"dataframe\">\n",
       "  <thead>\n",
       "    <tr style=\"text-align: right;\">\n",
       "      <th></th>\n",
       "      <th>prcp</th>\n",
       "    </tr>\n",
       "  </thead>\n",
       "  <tbody>\n",
       "    <tr>\n",
       "      <th>count</th>\n",
       "      <td>363.000000</td>\n",
       "    </tr>\n",
       "    <tr>\n",
       "      <th>mean</th>\n",
       "      <td>0.048843</td>\n",
       "    </tr>\n",
       "    <tr>\n",
       "      <th>std</th>\n",
       "      <td>0.205197</td>\n",
       "    </tr>\n",
       "    <tr>\n",
       "      <th>min</th>\n",
       "      <td>0.000000</td>\n",
       "    </tr>\n",
       "    <tr>\n",
       "      <th>25%</th>\n",
       "      <td>0.000000</td>\n",
       "    </tr>\n",
       "    <tr>\n",
       "      <th>50%</th>\n",
       "      <td>0.000000</td>\n",
       "    </tr>\n",
       "    <tr>\n",
       "      <th>75%</th>\n",
       "      <td>0.020000</td>\n",
       "    </tr>\n",
       "    <tr>\n",
       "      <th>max</th>\n",
       "      <td>2.620000</td>\n",
       "    </tr>\n",
       "  </tbody>\n",
       "</table>\n",
       "</div>"
      ],
      "text/plain": [
       "             prcp\n",
       "count  363.000000\n",
       "mean     0.048843\n",
       "std      0.205197\n",
       "min      0.000000\n",
       "25%      0.000000\n",
       "50%      0.000000\n",
       "75%      0.020000\n",
       "max      2.620000"
      ]
     },
     "execution_count": 18,
     "metadata": {},
     "output_type": "execute_result"
    },
    {
     "data": {
      "application/javascript": [
       "\n",
       "            setTimeout(function() {\n",
       "                var nbb_cell_id = 18;\n",
       "                var nbb_unformatted_code = \"# summary statistics for the precipitation data\\nprcp_df.describe()\";\n",
       "                var nbb_formatted_code = \"# summary statistics for the precipitation data\\nprcp_df.describe()\";\n",
       "                var nbb_cells = Jupyter.notebook.get_cells();\n",
       "                for (var i = 0; i < nbb_cells.length; ++i) {\n",
       "                    if (nbb_cells[i].input_prompt_number == nbb_cell_id) {\n",
       "                        if (nbb_cells[i].get_text() == nbb_unformatted_code) {\n",
       "                             nbb_cells[i].set_text(nbb_formatted_code);\n",
       "                        }\n",
       "                        break;\n",
       "                    }\n",
       "                }\n",
       "            }, 500);\n",
       "            "
      ],
      "text/plain": [
       "<IPython.core.display.Javascript object>"
      ]
     },
     "metadata": {},
     "output_type": "display_data"
    }
   ],
   "source": [
    "# summary statistics for the precipitation data\n",
    "prcp_df.describe()"
   ]
  },
  {
   "cell_type": "markdown",
   "metadata": {},
   "source": [
    "### Station Analysis\n",
    "\n",
    "* Design a query to calculate the total number of stations.\n",
    "\n",
    "* Design a query to find the most active stations.\n",
    "\n",
    "  * List the stations and observation counts in descending order.\n",
    "\n",
    "  * Which station has the highest number of observations?\n",
    "\n",
    "  * Hint: You may need to use functions such as `func.min`, `func.max`, `func.avg`, and `func.count` in your queries.\n",
    "\n",
    "* Design a query to retrieve the last 12 months of temperature observation data (tobs).\n",
    "\n",
    "  * Filter by the station with the highest number of observations.\n",
    "\n",
    "  * Plot the results as a histogram with `bins=12`."
   ]
  },
  {
   "cell_type": "code",
   "execution_count": 19,
   "metadata": {},
   "outputs": [
    {
     "name": "stdout",
     "output_type": "stream",
     "text": [
      "Total Number of Unique Stations present in the Station dataset is:  9\n"
     ]
    },
    {
     "data": {
      "application/javascript": [
       "\n",
       "            setTimeout(function() {\n",
       "                var nbb_cell_id = 19;\n",
       "                var nbb_unformatted_code = \"# query to calculate the total number of unique stations available in the Station dataset\\ntotal_station = session.query(Station.station).distinct().count()\\nprint(\\n    \\\"Total Number of Unique Stations present in the Station dataset is: \\\", total_station\\n)\";\n",
       "                var nbb_formatted_code = \"# query to calculate the total number of unique stations available in the Station dataset\\ntotal_station = session.query(Station.station).distinct().count()\\nprint(\\n    \\\"Total Number of Unique Stations present in the Station dataset is: \\\", total_station\\n)\";\n",
       "                var nbb_cells = Jupyter.notebook.get_cells();\n",
       "                for (var i = 0; i < nbb_cells.length; ++i) {\n",
       "                    if (nbb_cells[i].input_prompt_number == nbb_cell_id) {\n",
       "                        if (nbb_cells[i].get_text() == nbb_unformatted_code) {\n",
       "                             nbb_cells[i].set_text(nbb_formatted_code);\n",
       "                        }\n",
       "                        break;\n",
       "                    }\n",
       "                }\n",
       "            }, 500);\n",
       "            "
      ],
      "text/plain": [
       "<IPython.core.display.Javascript object>"
      ]
     },
     "metadata": {},
     "output_type": "display_data"
    }
   ],
   "source": [
    "# query to calculate the total number of unique stations available in the Station dataset\n",
    "total_station = session.query(Station.station).distinct().count()\n",
    "print(\n",
    "    \"Total Number of Unique Stations present in the Station dataset is: \", total_station\n",
    ")"
   ]
  },
  {
   "cell_type": "code",
   "execution_count": 20,
   "metadata": {},
   "outputs": [
    {
     "data": {
      "text/plain": [
       "[('USC00519281', 2772),\n",
       " ('USC00519397', 2724),\n",
       " ('USC00513117', 2709),\n",
       " ('USC00519523', 2669),\n",
       " ('USC00516128', 2612),\n",
       " ('USC00514830', 2202),\n",
       " ('USC00511918', 1979),\n",
       " ('USC00517948', 1372),\n",
       " ('USC00518838', 511)]"
      ]
     },
     "execution_count": 20,
     "metadata": {},
     "output_type": "execute_result"
    },
    {
     "data": {
      "application/javascript": [
       "\n",
       "            setTimeout(function() {\n",
       "                var nbb_cell_id = 20;\n",
       "                var nbb_unformatted_code = \"# What are the most active stations? (i.e. what stations have the most rows)?\\n# List the stations and the counts in descending order.\\nactive_stations = (\\n    session.query(Station.station, func.count(Measurement.station))\\n    .filter(Station.station == Measurement.station)\\n    .group_by(Station.station)\\n    .order_by(func.count(Measurement.station).desc())\\n    .all()\\n)\\n\\nactive_stations\";\n",
       "                var nbb_formatted_code = \"# What are the most active stations? (i.e. what stations have the most rows)?\\n# List the stations and the counts in descending order.\\nactive_stations = (\\n    session.query(Station.station, func.count(Measurement.station))\\n    .filter(Station.station == Measurement.station)\\n    .group_by(Station.station)\\n    .order_by(func.count(Measurement.station).desc())\\n    .all()\\n)\\n\\nactive_stations\";\n",
       "                var nbb_cells = Jupyter.notebook.get_cells();\n",
       "                for (var i = 0; i < nbb_cells.length; ++i) {\n",
       "                    if (nbb_cells[i].input_prompt_number == nbb_cell_id) {\n",
       "                        if (nbb_cells[i].get_text() == nbb_unformatted_code) {\n",
       "                             nbb_cells[i].set_text(nbb_formatted_code);\n",
       "                        }\n",
       "                        break;\n",
       "                    }\n",
       "                }\n",
       "            }, 500);\n",
       "            "
      ],
      "text/plain": [
       "<IPython.core.display.Javascript object>"
      ]
     },
     "metadata": {},
     "output_type": "display_data"
    }
   ],
   "source": [
    "# What are the most active stations? (i.e. what stations have the most rows)?\n",
    "# List the stations and the counts in descending order.\n",
    "active_stations = (\n",
    "    session.query(Station.station, func.count(Measurement.station))\n",
    "    .filter(Station.station == Measurement.station)\n",
    "    .group_by(Station.station)\n",
    "    .order_by(func.count(Measurement.station).desc())\n",
    "    .all()\n",
    ")\n",
    "\n",
    "active_stations"
   ]
  },
  {
   "cell_type": "code",
   "execution_count": 21,
   "metadata": {},
   "outputs": [
    {
     "name": "stdout",
     "output_type": "stream",
     "text": [
      "Most Active Station is:  USC00519281\n",
      "Total Number of observations for the most active station is:  2772\n"
     ]
    },
    {
     "data": {
      "application/javascript": [
       "\n",
       "            setTimeout(function() {\n",
       "                var nbb_cell_id = 21;\n",
       "                var nbb_unformatted_code = \"# station with highest number of observations\\nprint(\\\"Most Active Station is: \\\", active_stations[0][0])\\nprint(\\n    \\\"Total Number of observations for the most active station is: \\\",\\n    active_stations[0][1],\\n)\";\n",
       "                var nbb_formatted_code = \"# station with highest number of observations\\nprint(\\\"Most Active Station is: \\\", active_stations[0][0])\\nprint(\\n    \\\"Total Number of observations for the most active station is: \\\",\\n    active_stations[0][1],\\n)\";\n",
       "                var nbb_cells = Jupyter.notebook.get_cells();\n",
       "                for (var i = 0; i < nbb_cells.length; ++i) {\n",
       "                    if (nbb_cells[i].input_prompt_number == nbb_cell_id) {\n",
       "                        if (nbb_cells[i].get_text() == nbb_unformatted_code) {\n",
       "                             nbb_cells[i].set_text(nbb_formatted_code);\n",
       "                        }\n",
       "                        break;\n",
       "                    }\n",
       "                }\n",
       "            }, 500);\n",
       "            "
      ],
      "text/plain": [
       "<IPython.core.display.Javascript object>"
      ]
     },
     "metadata": {},
     "output_type": "display_data"
    }
   ],
   "source": [
    "# station with highest number of observations\n",
    "print(\"Most Active Station is: \", active_stations[0][0])\n",
    "print(\n",
    "    \"Total Number of observations for the most active station is: \",\n",
    "    active_stations[0][1],\n",
    ")"
   ]
  },
  {
   "cell_type": "code",
   "execution_count": 22,
   "metadata": {},
   "outputs": [
    {
     "name": "stdout",
     "output_type": "stream",
     "text": [
      "Most Active Station is: USC00519281\n",
      "----------------------------------------------------\n",
      "Lowest Temp Recorded for this station is: 54.0°F\n",
      "Highest Temp Recorded for this station is: 85.0°F\n",
      "Average Temp Recorded for this station is: 71.66°F\n"
     ]
    },
    {
     "data": {
      "application/javascript": [
       "\n",
       "            setTimeout(function() {\n",
       "                var nbb_cell_id = 22;\n",
       "                var nbb_unformatted_code = \"# Using the station id from the previous query, calculate the lowest temperature recorded,\\n# highest temperature recorded, and average temperature for most active station\\ntemps = (\\n    session.query(\\n        Measurement.station,\\n        func.min(Measurement.tobs),\\n        func.max(Measurement.tobs),\\n        func.avg(Measurement.tobs),\\n    )\\n    .filter(Measurement.station == active_stations[0][0])\\n    .all()\\n)\\n\\nprint(\\\"Most Active Station is:\\\", temps[0][0])\\nprint(\\\"----------------------------------------------------\\\")\\nprint(f\\\"Lowest Temp Recorded for this station is: {temps[0][1]}{degree_sign}F\\\")\\nprint(f\\\"Highest Temp Recorded for this station is: {temps[0][2]}{degree_sign}F\\\")\\nprint(\\n    f\\\"Average Temp Recorded for this station is: {round(temps[0][3], 2)}{degree_sign}F\\\"\\n)\";\n",
       "                var nbb_formatted_code = \"# Using the station id from the previous query, calculate the lowest temperature recorded,\\n# highest temperature recorded, and average temperature for most active station\\ntemps = (\\n    session.query(\\n        Measurement.station,\\n        func.min(Measurement.tobs),\\n        func.max(Measurement.tobs),\\n        func.avg(Measurement.tobs),\\n    )\\n    .filter(Measurement.station == active_stations[0][0])\\n    .all()\\n)\\n\\nprint(\\\"Most Active Station is:\\\", temps[0][0])\\nprint(\\\"----------------------------------------------------\\\")\\nprint(f\\\"Lowest Temp Recorded for this station is: {temps[0][1]}{degree_sign}F\\\")\\nprint(f\\\"Highest Temp Recorded for this station is: {temps[0][2]}{degree_sign}F\\\")\\nprint(\\n    f\\\"Average Temp Recorded for this station is: {round(temps[0][3], 2)}{degree_sign}F\\\"\\n)\";\n",
       "                var nbb_cells = Jupyter.notebook.get_cells();\n",
       "                for (var i = 0; i < nbb_cells.length; ++i) {\n",
       "                    if (nbb_cells[i].input_prompt_number == nbb_cell_id) {\n",
       "                        if (nbb_cells[i].get_text() == nbb_unformatted_code) {\n",
       "                             nbb_cells[i].set_text(nbb_formatted_code);\n",
       "                        }\n",
       "                        break;\n",
       "                    }\n",
       "                }\n",
       "            }, 500);\n",
       "            "
      ],
      "text/plain": [
       "<IPython.core.display.Javascript object>"
      ]
     },
     "metadata": {},
     "output_type": "display_data"
    }
   ],
   "source": [
    "# Using the station id from the previous query, calculate the lowest temperature recorded,\n",
    "# highest temperature recorded, and average temperature for most active station\n",
    "temps = (\n",
    "    session.query(\n",
    "        Measurement.station,\n",
    "        func.min(Measurement.tobs),\n",
    "        func.max(Measurement.tobs),\n",
    "        func.avg(Measurement.tobs),\n",
    "    )\n",
    "    .filter(Measurement.station == active_stations[0][0])\n",
    "    .all()\n",
    ")\n",
    "\n",
    "print(\"Most Active Station is:\", temps[0][0])\n",
    "print(\"----------------------------------------------------\")\n",
    "print(f\"Lowest Temp Recorded for this station is: {temps[0][1]}{degree_sign}F\")\n",
    "print(f\"Highest Temp Recorded for this station is: {temps[0][2]}{degree_sign}F\")\n",
    "print(\n",
    "    f\"Average Temp Recorded for this station is: {round(temps[0][3], 2)}{degree_sign}F\"\n",
    ")"
   ]
  },
  {
   "cell_type": "code",
   "execution_count": 23,
   "metadata": {},
   "outputs": [
    {
     "data": {
      "text/html": [
       "<div>\n",
       "<style scoped>\n",
       "    .dataframe tbody tr th:only-of-type {\n",
       "        vertical-align: middle;\n",
       "    }\n",
       "\n",
       "    .dataframe tbody tr th {\n",
       "        vertical-align: top;\n",
       "    }\n",
       "\n",
       "    .dataframe thead th {\n",
       "        text-align: right;\n",
       "    }\n",
       "</style>\n",
       "<table border=\"1\" class=\"dataframe\">\n",
       "  <thead>\n",
       "    <tr style=\"text-align: right;\">\n",
       "      <th></th>\n",
       "      <th>station</th>\n",
       "      <th>Temperature Observations °F</th>\n",
       "    </tr>\n",
       "  </thead>\n",
       "  <tbody>\n",
       "    <tr>\n",
       "      <th>0</th>\n",
       "      <td>USC00519281</td>\n",
       "      <td>77.0</td>\n",
       "    </tr>\n",
       "    <tr>\n",
       "      <th>1</th>\n",
       "      <td>USC00519281</td>\n",
       "      <td>77.0</td>\n",
       "    </tr>\n",
       "    <tr>\n",
       "      <th>2</th>\n",
       "      <td>USC00519281</td>\n",
       "      <td>80.0</td>\n",
       "    </tr>\n",
       "    <tr>\n",
       "      <th>3</th>\n",
       "      <td>USC00519281</td>\n",
       "      <td>80.0</td>\n",
       "    </tr>\n",
       "    <tr>\n",
       "      <th>4</th>\n",
       "      <td>USC00519281</td>\n",
       "      <td>75.0</td>\n",
       "    </tr>\n",
       "  </tbody>\n",
       "</table>\n",
       "</div>"
      ],
      "text/plain": [
       "       station  Temperature Observations °F\n",
       "0  USC00519281                         77.0\n",
       "1  USC00519281                         77.0\n",
       "2  USC00519281                         80.0\n",
       "3  USC00519281                         80.0\n",
       "4  USC00519281                         75.0"
      ]
     },
     "execution_count": 23,
     "metadata": {},
     "output_type": "execute_result"
    },
    {
     "data": {
      "application/javascript": [
       "\n",
       "            setTimeout(function() {\n",
       "                var nbb_cell_id = 23;\n",
       "                var nbb_unformatted_code = \"# Choose the station with the highest number of temperature observations.\\n# Query the last 12 months of temperature observation data for this station and plot the results as a histogram\\na_year_of_temps = (\\n    session.query(Measurement.station, Measurement.tobs)\\n    .filter(Measurement.date >= date_twelve_months_ago)\\n    .filter(Measurement.station == active_stations[0][0])\\n    .all()\\n)\\n\\nmost_active_station_tob_df = pd.DataFrame(a_year_of_temps).rename(\\n    columns={\\\"tobs\\\": f\\\"Temperature Observations {degree_sign}F\\\"}\\n)\\nmost_active_station_tob_df.head()\";\n",
       "                var nbb_formatted_code = \"# Choose the station with the highest number of temperature observations.\\n# Query the last 12 months of temperature observation data for this station and plot the results as a histogram\\na_year_of_temps = (\\n    session.query(Measurement.station, Measurement.tobs)\\n    .filter(Measurement.date >= date_twelve_months_ago)\\n    .filter(Measurement.station == active_stations[0][0])\\n    .all()\\n)\\n\\nmost_active_station_tob_df = pd.DataFrame(a_year_of_temps).rename(\\n    columns={\\\"tobs\\\": f\\\"Temperature Observations {degree_sign}F\\\"}\\n)\\nmost_active_station_tob_df.head()\";\n",
       "                var nbb_cells = Jupyter.notebook.get_cells();\n",
       "                for (var i = 0; i < nbb_cells.length; ++i) {\n",
       "                    if (nbb_cells[i].input_prompt_number == nbb_cell_id) {\n",
       "                        if (nbb_cells[i].get_text() == nbb_unformatted_code) {\n",
       "                             nbb_cells[i].set_text(nbb_formatted_code);\n",
       "                        }\n",
       "                        break;\n",
       "                    }\n",
       "                }\n",
       "            }, 500);\n",
       "            "
      ],
      "text/plain": [
       "<IPython.core.display.Javascript object>"
      ]
     },
     "metadata": {},
     "output_type": "display_data"
    }
   ],
   "source": [
    "# Choose the station with the highest number of temperature observations.\n",
    "# Query the last 12 months of temperature observation data for this station and plot the results as a histogram\n",
    "a_year_of_temps = (\n",
    "    session.query(Measurement.station, Measurement.tobs)\n",
    "    .filter(Measurement.date >= date_twelve_months_ago)\n",
    "    .filter(Measurement.station == active_stations[0][0])\n",
    "    .all()\n",
    ")\n",
    "\n",
    "most_active_station_tob_df = pd.DataFrame(a_year_of_temps).rename(\n",
    "    columns={\"tobs\": f\"Temperature Observations {degree_sign}F\"}\n",
    ")\n",
    "most_active_station_tob_df.head()"
   ]
  },
  {
   "cell_type": "code",
   "execution_count": 24,
   "metadata": {},
   "outputs": [
    {
     "data": {
      "image/png": "[encoded data removed]",
      "text/plain": [
       "<Figure size 720x432 with 1 Axes>"
      ]
     },
     "metadata": {
      "needs_background": "light"
     },
     "output_type": "display_data"
    },
    {
     "data": {
      "application/javascript": [
       "\n",
       "            setTimeout(function() {\n",
       "                var nbb_cell_id = 24;\n",
       "                var nbb_unformatted_code = \"# plot the last 12 months temperature observations data for the most active station using a histogram with bins=12\\nmost_active_station_tob_df.plot(\\n    kind=\\\"hist\\\", bins=12, figsize=(10, 6), color=\\\"green\\\", alpha=0.5\\n)\\nplt.xlabel(f\\\"Temperature Observations in {degree_sign}F\\\")\\nplt.ylabel(\\\"Frequency\\\")\\nplt.title(\\\"Last 12 month's Temperature Observations Data for Most Active Station\\\")\\nplt.show()\";\n",
       "                var nbb_formatted_code = \"# plot the last 12 months temperature observations data for the most active station using a histogram with bins=12\\nmost_active_station_tob_df.plot(\\n    kind=\\\"hist\\\", bins=12, figsize=(10, 6), color=\\\"green\\\", alpha=0.5\\n)\\nplt.xlabel(f\\\"Temperature Observations in {degree_sign}F\\\")\\nplt.ylabel(\\\"Frequency\\\")\\nplt.title(\\\"Last 12 month's Temperature Observations Data for Most Active Station\\\")\\nplt.show()\";\n",
       "                var nbb_cells = Jupyter.notebook.get_cells();\n",
       "                for (var i = 0; i < nbb_cells.length; ++i) {\n",
       "                    if (nbb_cells[i].input_prompt_number == nbb_cell_id) {\n",
       "                        if (nbb_cells[i].get_text() == nbb_unformatted_code) {\n",
       "                             nbb_cells[i].set_text(nbb_formatted_code);\n",
       "                        }\n",
       "                        break;\n",
       "                    }\n",
       "                }\n",
       "            }, 500);\n",
       "            "
      ],
      "text/plain": [
       "<IPython.core.display.Javascript object>"
      ]
     },
     "metadata": {},
     "output_type": "display_data"
    }
   ],
   "source": [
    "# plot the last 12 months temperature observations data for the most active station using a histogram with bins=12\n",
    "most_active_station_tob_df.plot(\n",
    "    kind=\"hist\", bins=12, figsize=(10, 6), color=\"green\", alpha=0.5\n",
    ")\n",
    "plt.xlabel(f\"Temperature Observations in {degree_sign}F\")\n",
    "plt.ylabel(\"Frequency\")\n",
    "plt.title(\"Last 12 month's Temperature Observations Data for Most Active Station\")\n",
    "plt.show()"
   ]
  },
  {
   "cell_type": "markdown",
   "metadata": {},
   "source": [
    "### Temperature Analysis\n",
    "\n",
    "* The starter notebook contains a function called `calc_temps` that will accept a start date and end date in the format `%Y-%m-%d` and return the minimum, average, and maximum temperatures for that range of dates.\n",
    "\n",
    "* Use the `calc_temps` function to calculate the min, avg, and max temperatures for your trip using the matching dates from the previous year (i.e., use \"2017-01-01\" if your trip start date was \"2018-01-01\").\n",
    "\n",
    "* Plot the min, avg, and max temperature from your previous query as a bar chart.\n",
    "\n",
    "  * Use the average temperature as the bar height.\n",
    "\n",
    "  * Use the peak-to-peak (tmax-tmin) value as the y error bar (yerr)."
   ]
  },
  {
   "cell_type": "code",
   "execution_count": 25,
   "metadata": {},
   "outputs": [
    {
     "name": "stdout",
     "output_type": "stream",
     "text": [
      "[(62.0, 69.57142857142857, 74.0)]\n"
     ]
    },
    {
     "data": {
      "application/javascript": [
       "\n",
       "            setTimeout(function() {\n",
       "                var nbb_cell_id = 25;\n",
       "                var nbb_unformatted_code = \"# This function called `calc_temps` will accept start date and end date in the format '%Y-%m-%d'\\n# and return the minimum, average, and maximum temperatures for that range of dates\\n\\n\\ndef calc_temps(start_date, end_date):\\n    \\\"\\\"\\\"TMIN, TAVG, and TMAX for a list of dates.\\n    \\n    Args:\\n        start_date (string): A date string in the format %Y-%m-%d\\n        end_date (string): A date string in the format %Y-%m-%d\\n        \\n    Returns:\\n        TMIN, TAVE, and TMAX\\n    \\\"\\\"\\\"\\n\\n    return (\\n        session.query(\\n            func.min(Measurement.tobs),\\n            func.avg(Measurement.tobs),\\n            func.max(Measurement.tobs),\\n        )\\n        .filter(Measurement.date >= start_date)\\n        .filter(Measurement.date <= end_date)\\n        .all()\\n    )\\n\\n\\n# function usage example\\nprint(calc_temps(\\\"2012-02-28\\\", \\\"2012-03-05\\\"))\";\n",
       "                var nbb_formatted_code = \"# This function called `calc_temps` will accept start date and end date in the format '%Y-%m-%d'\\n# and return the minimum, average, and maximum temperatures for that range of dates\\n\\n\\ndef calc_temps(start_date, end_date):\\n    \\\"\\\"\\\"TMIN, TAVG, and TMAX for a list of dates.\\n    \\n    Args:\\n        start_date (string): A date string in the format %Y-%m-%d\\n        end_date (string): A date string in the format %Y-%m-%d\\n        \\n    Returns:\\n        TMIN, TAVE, and TMAX\\n    \\\"\\\"\\\"\\n\\n    return (\\n        session.query(\\n            func.min(Measurement.tobs),\\n            func.avg(Measurement.tobs),\\n            func.max(Measurement.tobs),\\n        )\\n        .filter(Measurement.date >= start_date)\\n        .filter(Measurement.date <= end_date)\\n        .all()\\n    )\\n\\n\\n# function usage example\\nprint(calc_temps(\\\"2012-02-28\\\", \\\"2012-03-05\\\"))\";\n",
       "                var nbb_cells = Jupyter.notebook.get_cells();\n",
       "                for (var i = 0; i < nbb_cells.length; ++i) {\n",
       "                    if (nbb_cells[i].input_prompt_number == nbb_cell_id) {\n",
       "                        if (nbb_cells[i].get_text() == nbb_unformatted_code) {\n",
       "                             nbb_cells[i].set_text(nbb_formatted_code);\n",
       "                        }\n",
       "                        break;\n",
       "                    }\n",
       "                }\n",
       "            }, 500);\n",
       "            "
      ],
      "text/plain": [
       "<IPython.core.display.Javascript object>"
      ]
     },
     "metadata": {},
     "output_type": "display_data"
    }
   ],
   "source": [
    "# This function called `calc_temps` will accept start date and end date in the format '%Y-%m-%d'\n",
    "# and return the minimum, average, and maximum temperatures for that range of dates\n",
    "\n",
    "\n",
    "def calc_temps(start_date, end_date):\n",
    "    \"\"\"TMIN, TAVG, and TMAX for a list of dates.\n",
    "    \n",
    "    Args:\n",
    "        start_date (string): A date string in the format %Y-%m-%d\n",
    "        end_date (string): A date string in the format %Y-%m-%d\n",
    "        \n",
    "    Returns:\n",
    "        TMIN, TAVE, and TMAX\n",
    "    \"\"\"\n",
    "\n",
    "    return (\n",
    "        session.query(\n",
    "            func.min(Measurement.tobs),\n",
    "            func.avg(Measurement.tobs),\n",
    "            func.max(Measurement.tobs),\n",
    "        )\n",
    "        .filter(Measurement.date >= start_date)\n",
    "        .filter(Measurement.date <= end_date)\n",
    "        .all()\n",
    "    )\n",
    "\n",
    "\n",
    "# function usage example\n",
    "print(calc_temps(\"2012-02-28\", \"2012-03-05\"))"
   ]
  },
  {
   "cell_type": "code",
   "execution_count": 26,
   "metadata": {},
   "outputs": [
    {
     "name": "stdout",
     "output_type": "stream",
     "text": [
      "Trip Start Date is:  2018-08-01\n",
      "Trip End Date is:  2018-08-10\n",
      "-------------------------------------------------------------------\n",
      "Start Date from previous year based on 'trip start date' is:  2017-08-01\n",
      "End Date from previous year based on 'trip end date' is:  2017-08-10\n",
      "--------------------------------------------------------------------\n"
     ]
    },
    {
     "data": {
      "text/html": [
       "<div>\n",
       "<style scoped>\n",
       "    .dataframe tbody tr th:only-of-type {\n",
       "        vertical-align: middle;\n",
       "    }\n",
       "\n",
       "    .dataframe tbody tr th {\n",
       "        vertical-align: top;\n",
       "    }\n",
       "\n",
       "    .dataframe thead th {\n",
       "        text-align: right;\n",
       "    }\n",
       "</style>\n",
       "<table border=\"1\" class=\"dataframe\">\n",
       "  <thead>\n",
       "    <tr style=\"text-align: right;\">\n",
       "      <th></th>\n",
       "      <th>Min</th>\n",
       "      <th>Avg</th>\n",
       "      <th>Max</th>\n",
       "    </tr>\n",
       "  </thead>\n",
       "  <tbody>\n",
       "    <tr>\n",
       "      <th>0</th>\n",
       "      <td>71.0</td>\n",
       "      <td>79.025641</td>\n",
       "      <td>83.0</td>\n",
       "    </tr>\n",
       "  </tbody>\n",
       "</table>\n",
       "</div>"
      ],
      "text/plain": [
       "    Min        Avg   Max\n",
       "0  71.0  79.025641  83.0"
      ]
     },
     "execution_count": 26,
     "metadata": {},
     "output_type": "execute_result"
    },
    {
     "data": {
      "application/javascript": [
       "\n",
       "            setTimeout(function() {\n",
       "                var nbb_cell_id = 26;\n",
       "                var nbb_unformatted_code = \"# Use your previous function `calc_temps` to calculate the tmin, tavg, and tmax\\n# for your trip using the previous year's data for those same dates.\\n\\ntrip_start_date = \\\"2018-08-01\\\"\\ntrip_end_date = \\\"2018-08-10\\\"\\n\\nprint(\\\"Trip Start Date is: \\\", trip_start_date)\\nprint(\\\"Trip End Date is: \\\", trip_end_date)\\nprint(\\\"-------------------------------------------------------------------\\\")\\n\\nt1 = datetime.date(2018, 8, 1) - datetime.timedelta(days=365)\\nprint(\\\"Start Date from previous year based on 'trip start date' is: \\\", t1)\\n\\nt2 = datetime.date(2018, 8, 10) - datetime.timedelta(days=365)\\nprint(\\\"End Date from previous year based on 'trip end date' is: \\\", t2)\\nprint(\\\"--------------------------------------------------------------------\\\")\\n\\ntrip_temperature_df = pd.DataFrame(calc_temps(t1, t2), columns=[\\\"Min\\\", \\\"Avg\\\", \\\"Max\\\"])\\ntrip_temperature_df\";\n",
       "                var nbb_formatted_code = \"# Use your previous function `calc_temps` to calculate the tmin, tavg, and tmax\\n# for your trip using the previous year's data for those same dates.\\n\\ntrip_start_date = \\\"2018-08-01\\\"\\ntrip_end_date = \\\"2018-08-10\\\"\\n\\nprint(\\\"Trip Start Date is: \\\", trip_start_date)\\nprint(\\\"Trip End Date is: \\\", trip_end_date)\\nprint(\\\"-------------------------------------------------------------------\\\")\\n\\nt1 = datetime.date(2018, 8, 1) - datetime.timedelta(days=365)\\nprint(\\\"Start Date from previous year based on 'trip start date' is: \\\", t1)\\n\\nt2 = datetime.date(2018, 8, 10) - datetime.timedelta(days=365)\\nprint(\\\"End Date from previous year based on 'trip end date' is: \\\", t2)\\nprint(\\\"--------------------------------------------------------------------\\\")\\n\\ntrip_temperature_df = pd.DataFrame(calc_temps(t1, t2), columns=[\\\"Min\\\", \\\"Avg\\\", \\\"Max\\\"])\\ntrip_temperature_df\";\n",
       "                var nbb_cells = Jupyter.notebook.get_cells();\n",
       "                for (var i = 0; i < nbb_cells.length; ++i) {\n",
       "                    if (nbb_cells[i].input_prompt_number == nbb_cell_id) {\n",
       "                        if (nbb_cells[i].get_text() == nbb_unformatted_code) {\n",
       "                             nbb_cells[i].set_text(nbb_formatted_code);\n",
       "                        }\n",
       "                        break;\n",
       "                    }\n",
       "                }\n",
       "            }, 500);\n",
       "            "
      ],
      "text/plain": [
       "<IPython.core.display.Javascript object>"
      ]
     },
     "metadata": {},
     "output_type": "display_data"
    }
   ],
   "source": [
    "# Use your previous function `calc_temps` to calculate the tmin, tavg, and tmax\n",
    "# for your trip using the previous year's data for those same dates.\n",
    "\n",
    "trip_start_date = \"2018-08-01\"\n",
    "trip_end_date = \"2018-08-10\"\n",
    "\n",
    "print(\"Trip Start Date is: \", trip_start_date)\n",
    "print(\"Trip End Date is: \", trip_end_date)\n",
    "print(\"-------------------------------------------------------------------\")\n",
    "\n",
    "t1 = datetime.date(2018, 8, 1) - datetime.timedelta(days=365)\n",
    "print(\"Start Date from previous year based on 'trip start date' is: \", t1)\n",
    "\n",
    "t2 = datetime.date(2018, 8, 10) - datetime.timedelta(days=365)\n",
    "print(\"End Date from previous year based on 'trip end date' is: \", t2)\n",
    "print(\"--------------------------------------------------------------------\")\n",
    "\n",
    "trip_temperature_df = pd.DataFrame(calc_temps(t1, t2), columns=[\"Min\", \"Avg\", \"Max\"])\n",
    "trip_temperature_df"
   ]
  },
  {
   "cell_type": "code",
   "execution_count": 27,
   "metadata": {},
   "outputs": [
    {
     "data": {
      "image/png": "[encoded data removed]",
      "text/plain": [
       "<Figure size 288x432 with 1 Axes>"
      ]
     },
     "metadata": {
      "needs_background": "light"
     },
     "output_type": "display_data"
    },
    {
     "data": {
      "application/javascript": [
       "\n",
       "            setTimeout(function() {\n",
       "                var nbb_cell_id = 27;\n",
       "                var nbb_unformatted_code = \"# Plot the results from your previous query as a bar chart.\\n# Use \\\"Trip Avg Temp\\\" as your Title. Use the average temperature for the y value\\n# Use the peak-to-peak (tmax-tmin) value as the y error bar (yerr)\\n\\ntrip_temperature_df.plot.bar(\\n    y=\\\"Avg\\\",\\n    yerr=(trip_temperature_df[\\\"Max\\\"] - trip_temperature_df[\\\"Min\\\"]),\\n    title=\\\"Trip Avg Temp\\\",\\n    color=\\\"green\\\",\\n    alpha=0.5,\\n    figsize=(4, 6),\\n    legend=None,\\n)\\nplt.xticks([])\\nplt.ylabel(f\\\"Temperature in {degree_sign}F\\\")\\nplt.tight_layout()\\nplt.show()\";\n",
       "                var nbb_formatted_code = \"# Plot the results from your previous query as a bar chart.\\n# Use \\\"Trip Avg Temp\\\" as your Title. Use the average temperature for the y value\\n# Use the peak-to-peak (tmax-tmin) value as the y error bar (yerr)\\n\\ntrip_temperature_df.plot.bar(\\n    y=\\\"Avg\\\",\\n    yerr=(trip_temperature_df[\\\"Max\\\"] - trip_temperature_df[\\\"Min\\\"]),\\n    title=\\\"Trip Avg Temp\\\",\\n    color=\\\"green\\\",\\n    alpha=0.5,\\n    figsize=(4, 6),\\n    legend=None,\\n)\\nplt.xticks([])\\nplt.ylabel(f\\\"Temperature in {degree_sign}F\\\")\\nplt.tight_layout()\\nplt.show()\";\n",
       "                var nbb_cells = Jupyter.notebook.get_cells();\n",
       "                for (var i = 0; i < nbb_cells.length; ++i) {\n",
       "                    if (nbb_cells[i].input_prompt_number == nbb_cell_id) {\n",
       "                        if (nbb_cells[i].get_text() == nbb_unformatted_code) {\n",
       "                             nbb_cells[i].set_text(nbb_formatted_code);\n",
       "                        }\n",
       "                        break;\n",
       "                    }\n",
       "                }\n",
       "            }, 500);\n",
       "            "
      ],
      "text/plain": [
       "<IPython.core.display.Javascript object>"
      ]
     },
     "metadata": {},
     "output_type": "display_data"
    }
   ],
   "source": [
    "# Plot the results from your previous query as a bar chart.\n",
    "# Use \"Trip Avg Temp\" as your Title. Use the average temperature for the y value\n",
    "# Use the peak-to-peak (tmax-tmin) value as the y error bar (yerr)\n",
    "\n",
    "trip_temperature_df.plot.bar(\n",
    "    y=\"Avg\",\n",
    "    yerr=(trip_temperature_df[\"Max\"] - trip_temperature_df[\"Min\"]),\n",
    "    title=\"Trip Avg Temp\",\n",
    "    color=\"green\",\n",
    "    alpha=0.5,\n",
    "    figsize=(4, 6),\n",
    "    legend=None,\n",
    ")\n",
    "plt.xticks([])\n",
    "plt.ylabel(f\"Temperature in {degree_sign}F\")\n",
    "plt.tight_layout()\n",
    "plt.show()"
   ]
  },
  {
   "cell_type": "markdown",
   "metadata": {},
   "source": [
    "### Daily Rainfall Average.\n",
    "\n",
    "* Calculate the rainfall per weather station using the previous year's matching dates.\n",
    "\n",
    "* Calculate the daily normals. Normals are the averages for the min, avg, and max temperatures.\n",
    "\n",
    "* You are provided with a function called `daily_normals` that will calculate the daily normals for a specific date. This date string will be in the format `%m-%d`. Be sure to use all historic tobs that match that date string.\n",
    "\n",
    "* Create a list of dates for your trip in the format `%m-%d`. Use the `daily_normals` function to calculate the normals for each date string and append the results to a list.\n",
    "\n",
    "* Load the list of daily normals into a Pandas DataFrame and set the index equal to the date.\n",
    "\n",
    "* Use Pandas to plot an area plot (`stacked=False`) for the daily normals."
   ]
  },
  {
   "cell_type": "code",
   "execution_count": 28,
   "metadata": {},
   "outputs": [
    {
     "name": "stdout",
     "output_type": "stream",
     "text": [
      "('USC00516128', 'MANOA LYON ARBO 785.2, HI US', 21.3331, -157.8025, 152.4, 0.92)\n",
      "('USC00514830', 'KUALOA RANCH HEADQUARTERS 886.9, HI US', 21.5213, -157.8374, 7.0, 0.32)\n",
      "('USC00519281', 'WAIHEE 837.5, HI US', 21.45167, -157.84888999999998, 32.9, 0.06)\n",
      "('USC00519397', 'WAIKIKI 717.2, HI US', 21.2716, -157.8168, 3.0, 0.04)\n",
      "('USC00519523', 'WAIMANALO EXPERIMENTAL FARM, HI US', 21.33556, -157.71139, 19.5, 0.0)\n"
     ]
    },
    {
     "data": {
      "application/javascript": [
       "\n",
       "            setTimeout(function() {\n",
       "                var nbb_cell_id = 28;\n",
       "                var nbb_unformatted_code = \"# Calculate the total amount of rainfall per weather station for your trip dates using the previous year's matching dates.\\n# Sort this in descending order by precipitation amount and list the station, name, latitude, longitude, and elevation\\n\\ntrip_total_rainfall = (\\n    session.query(\\n        Station.station,\\n        Station.name,\\n        Station.latitude,\\n        Station.longitude,\\n        Station.elevation,\\n        func.round(func.sum(Measurement.prcp), 2),\\n    )\\n    .filter(Station.station == Measurement.station)\\n    .filter(Measurement.date >= t1)\\n    .filter(Measurement.date <= t2)\\n    .group_by(Station.station)\\n    .order_by(func.sum(Measurement.prcp).desc())\\n    .all()\\n)\\n\\nfor t in trip_total_rainfall:\\n    print(t)\";\n",
       "                var nbb_formatted_code = \"# Calculate the total amount of rainfall per weather station for your trip dates using the previous year's matching dates.\\n# Sort this in descending order by precipitation amount and list the station, name, latitude, longitude, and elevation\\n\\ntrip_total_rainfall = (\\n    session.query(\\n        Station.station,\\n        Station.name,\\n        Station.latitude,\\n        Station.longitude,\\n        Station.elevation,\\n        func.round(func.sum(Measurement.prcp), 2),\\n    )\\n    .filter(Station.station == Measurement.station)\\n    .filter(Measurement.date >= t1)\\n    .filter(Measurement.date <= t2)\\n    .group_by(Station.station)\\n    .order_by(func.sum(Measurement.prcp).desc())\\n    .all()\\n)\\n\\nfor t in trip_total_rainfall:\\n    print(t)\";\n",
       "                var nbb_cells = Jupyter.notebook.get_cells();\n",
       "                for (var i = 0; i < nbb_cells.length; ++i) {\n",
       "                    if (nbb_cells[i].input_prompt_number == nbb_cell_id) {\n",
       "                        if (nbb_cells[i].get_text() == nbb_unformatted_code) {\n",
       "                             nbb_cells[i].set_text(nbb_formatted_code);\n",
       "                        }\n",
       "                        break;\n",
       "                    }\n",
       "                }\n",
       "            }, 500);\n",
       "            "
      ],
      "text/plain": [
       "<IPython.core.display.Javascript object>"
      ]
     },
     "metadata": {},
     "output_type": "display_data"
    }
   ],
   "source": [
    "# Calculate the total amount of rainfall per weather station for your trip dates using the previous year's matching dates.\n",
    "# Sort this in descending order by precipitation amount and list the station, name, latitude, longitude, and elevation\n",
    "\n",
    "trip_total_rainfall = (\n",
    "    session.query(\n",
    "        Station.station,\n",
    "        Station.name,\n",
    "        Station.latitude,\n",
    "        Station.longitude,\n",
    "        Station.elevation,\n",
    "        func.round(func.sum(Measurement.prcp), 2),\n",
    "    )\n",
    "    .filter(Station.station == Measurement.station)\n",
    "    .filter(Measurement.date >= t1)\n",
    "    .filter(Measurement.date <= t2)\n",
    "    .group_by(Station.station)\n",
    "    .order_by(func.sum(Measurement.prcp).desc())\n",
    "    .all()\n",
    ")\n",
    "\n",
    "for t in trip_total_rainfall:\n",
    "    print(t)"
   ]
  },
  {
   "cell_type": "code",
   "execution_count": 29,
   "metadata": {},
   "outputs": [
    {
     "data": {
      "text/html": [
       "<div>\n",
       "<style scoped>\n",
       "    .dataframe tbody tr th:only-of-type {\n",
       "        vertical-align: middle;\n",
       "    }\n",
       "\n",
       "    .dataframe tbody tr th {\n",
       "        vertical-align: top;\n",
       "    }\n",
       "\n",
       "    .dataframe thead th {\n",
       "        text-align: right;\n",
       "    }\n",
       "</style>\n",
       "<table border=\"1\" class=\"dataframe\">\n",
       "  <thead>\n",
       "    <tr style=\"text-align: right;\">\n",
       "      <th></th>\n",
       "      <th>station</th>\n",
       "      <th>name</th>\n",
       "      <th>latitude</th>\n",
       "      <th>longitude</th>\n",
       "      <th>elevation</th>\n",
       "      <th>total prcp</th>\n",
       "    </tr>\n",
       "  </thead>\n",
       "  <tbody>\n",
       "    <tr>\n",
       "      <th>0</th>\n",
       "      <td>USC00516128</td>\n",
       "      <td>MANOA LYON ARBO 785.2, HI US</td>\n",
       "      <td>21.3331</td>\n",
       "      <td>-157.8025</td>\n",
       "      <td>152.4</td>\n",
       "      <td>0.92</td>\n",
       "    </tr>\n",
       "    <tr>\n",
       "      <th>1</th>\n",
       "      <td>USC00514830</td>\n",
       "      <td>KUALOA RANCH HEADQUARTERS 886.9, HI US</td>\n",
       "      <td>21.5213</td>\n",
       "      <td>-157.8374</td>\n",
       "      <td>7.0</td>\n",
       "      <td>0.32</td>\n",
       "    </tr>\n",
       "    <tr>\n",
       "      <th>2</th>\n",
       "      <td>USC00519281</td>\n",
       "      <td>WAIHEE 837.5, HI US</td>\n",
       "      <td>21.45167</td>\n",
       "      <td>-157.84888999999998</td>\n",
       "      <td>32.9</td>\n",
       "      <td>0.06</td>\n",
       "    </tr>\n",
       "    <tr>\n",
       "      <th>3</th>\n",
       "      <td>USC00519397</td>\n",
       "      <td>WAIKIKI 717.2, HI US</td>\n",
       "      <td>21.2716</td>\n",
       "      <td>-157.8168</td>\n",
       "      <td>3.0</td>\n",
       "      <td>0.04</td>\n",
       "    </tr>\n",
       "    <tr>\n",
       "      <th>4</th>\n",
       "      <td>USC00519523</td>\n",
       "      <td>WAIMANALO EXPERIMENTAL FARM, HI US</td>\n",
       "      <td>21.33556</td>\n",
       "      <td>-157.71139</td>\n",
       "      <td>19.5</td>\n",
       "      <td>0.0</td>\n",
       "    </tr>\n",
       "  </tbody>\n",
       "</table>\n",
       "</div>"
      ],
      "text/plain": [
       "       station                                    name  latitude  \\\n",
       "0  USC00516128            MANOA LYON ARBO 785.2, HI US   21.3331   \n",
       "1  USC00514830  KUALOA RANCH HEADQUARTERS 886.9, HI US   21.5213   \n",
       "2  USC00519281                     WAIHEE 837.5, HI US  21.45167   \n",
       "3  USC00519397                    WAIKIKI 717.2, HI US   21.2716   \n",
       "4  USC00519523      WAIMANALO EXPERIMENTAL FARM, HI US  21.33556   \n",
       "\n",
       "             longitude elevation total prcp  \n",
       "0            -157.8025     152.4       0.92  \n",
       "1            -157.8374       7.0       0.32  \n",
       "2  -157.84888999999998      32.9       0.06  \n",
       "3            -157.8168       3.0       0.04  \n",
       "4           -157.71139      19.5        0.0  "
      ]
     },
     "execution_count": 29,
     "metadata": {},
     "output_type": "execute_result"
    },
    {
     "data": {
      "application/javascript": [
       "\n",
       "            setTimeout(function() {\n",
       "                var nbb_cell_id = 29;\n",
       "                var nbb_unformatted_code = \"# storing the trip_total_rainfall data in a dataframe\\ncols = [\\\"station\\\", \\\"name\\\", \\\"latitude\\\", \\\"longitude\\\", \\\"elevation\\\", \\\"total prcp\\\"]\\ntrip_rainfall_df = pd.DataFrame(np.array(trip_total_rainfall), columns=cols)\\ntrip_rainfall_df\";\n",
       "                var nbb_formatted_code = \"# storing the trip_total_rainfall data in a dataframe\\ncols = [\\\"station\\\", \\\"name\\\", \\\"latitude\\\", \\\"longitude\\\", \\\"elevation\\\", \\\"total prcp\\\"]\\ntrip_rainfall_df = pd.DataFrame(np.array(trip_total_rainfall), columns=cols)\\ntrip_rainfall_df\";\n",
       "                var nbb_cells = Jupyter.notebook.get_cells();\n",
       "                for (var i = 0; i < nbb_cells.length; ++i) {\n",
       "                    if (nbb_cells[i].input_prompt_number == nbb_cell_id) {\n",
       "                        if (nbb_cells[i].get_text() == nbb_unformatted_code) {\n",
       "                             nbb_cells[i].set_text(nbb_formatted_code);\n",
       "                        }\n",
       "                        break;\n",
       "                    }\n",
       "                }\n",
       "            }, 500);\n",
       "            "
      ],
      "text/plain": [
       "<IPython.core.display.Javascript object>"
      ]
     },
     "metadata": {},
     "output_type": "display_data"
    }
   ],
   "source": [
    "# storing the trip_total_rainfall data in a dataframe\n",
    "cols = [\"station\", \"name\", \"latitude\", \"longitude\", \"elevation\", \"total prcp\"]\n",
    "trip_rainfall_df = pd.DataFrame(np.array(trip_total_rainfall), columns=cols)\n",
    "trip_rainfall_df"
   ]
  },
  {
   "cell_type": "code",
   "execution_count": 30,
   "metadata": {},
   "outputs": [
    {
     "data": {
      "text/plain": [
       "[(62.0, 69.15384615384616, 77.0)]"
      ]
     },
     "execution_count": 30,
     "metadata": {},
     "output_type": "execute_result"
    },
    {
     "data": {
      "application/javascript": [
       "\n",
       "            setTimeout(function() {\n",
       "                var nbb_cell_id = 30;\n",
       "                var nbb_unformatted_code = \"# Create a query that will calculate the daily normals\\n# (i.e. the averages for tmin, tmax, and tavg for all historic data matching a specific month and day)\\ndef daily_normals(date):\\n\\n    \\\"\\\"\\\"Daily Normals.    \\n    Args:\\n        date (str): A date string in the format '%m-%d'\\n    Returns:\\n        A list of tuples containing the daily normals, tmin, tavg, and tmax    \\n    \\\"\\\"\\\"\\n\\n    sel = [\\n        func.min(Measurement.tobs),\\n        func.avg(Measurement.tobs),\\n        func.max(Measurement.tobs),\\n    ]\\n    return (\\n        session.query(*sel)\\n        .filter(func.strftime(\\\"%m-%d\\\", Measurement.date) == date)\\n        .all()\\n    )\\n\\n\\ndaily_normals(\\\"01-01\\\")\";\n",
       "                var nbb_formatted_code = \"# Create a query that will calculate the daily normals\\n# (i.e. the averages for tmin, tmax, and tavg for all historic data matching a specific month and day)\\ndef daily_normals(date):\\n\\n    \\\"\\\"\\\"Daily Normals.    \\n    Args:\\n        date (str): A date string in the format '%m-%d'\\n    Returns:\\n        A list of tuples containing the daily normals, tmin, tavg, and tmax    \\n    \\\"\\\"\\\"\\n\\n    sel = [\\n        func.min(Measurement.tobs),\\n        func.avg(Measurement.tobs),\\n        func.max(Measurement.tobs),\\n    ]\\n    return (\\n        session.query(*sel)\\n        .filter(func.strftime(\\\"%m-%d\\\", Measurement.date) == date)\\n        .all()\\n    )\\n\\n\\ndaily_normals(\\\"01-01\\\")\";\n",
       "                var nbb_cells = Jupyter.notebook.get_cells();\n",
       "                for (var i = 0; i < nbb_cells.length; ++i) {\n",
       "                    if (nbb_cells[i].input_prompt_number == nbb_cell_id) {\n",
       "                        if (nbb_cells[i].get_text() == nbb_unformatted_code) {\n",
       "                             nbb_cells[i].set_text(nbb_formatted_code);\n",
       "                        }\n",
       "                        break;\n",
       "                    }\n",
       "                }\n",
       "            }, 500);\n",
       "            "
      ],
      "text/plain": [
       "<IPython.core.display.Javascript object>"
      ]
     },
     "metadata": {},
     "output_type": "display_data"
    }
   ],
   "source": [
    "# Create a query that will calculate the daily normals\n",
    "# (i.e. the averages for tmin, tmax, and tavg for all historic data matching a specific month and day)\n",
    "def daily_normals(date):\n",
    "\n",
    "    \"\"\"Daily Normals.    \n",
    "    Args:\n",
    "        date (str): A date string in the format '%m-%d'\n",
    "    Returns:\n",
    "        A list of tuples containing the daily normals, tmin, tavg, and tmax    \n",
    "    \"\"\"\n",
    "\n",
    "    sel = [\n",
    "        func.min(Measurement.tobs),\n",
    "        func.avg(Measurement.tobs),\n",
    "        func.max(Measurement.tobs),\n",
    "    ]\n",
    "    return (\n",
    "        session.query(*sel)\n",
    "        .filter(func.strftime(\"%m-%d\", Measurement.date) == date)\n",
    "        .all()\n",
    "    )\n",
    "\n",
    "\n",
    "daily_normals(\"01-01\")"
   ]
  },
  {
   "cell_type": "code",
   "execution_count": 31,
   "metadata": {},
   "outputs": [
    {
     "name": "stdout",
     "output_type": "stream",
     "text": [
      "Trip Start Date is:  2018-08-01\n",
      "Trip End Date is:  2018-08-10\n",
      "--------------------------------------------------------------------------\n",
      "Start Date from previous year based on 'trip start date' is:  2017-08-01\n",
      "End Date from previous year based on 'trip end date' is:  2017-08-10\n",
      "--------------------------------------------------------------------------\n",
      "Number of Trip Days is:  9 days, 0:00:00\n",
      "--------------------------------------------------------------------------\n",
      "Date Range (including Year) from last year based on Trip Date: \n",
      " [datetime.date(2017, 8, 1), datetime.date(2017, 8, 2), datetime.date(2017, 8, 3), datetime.date(2017, 8, 4), datetime.date(2017, 8, 5), datetime.date(2017, 8, 6), datetime.date(2017, 8, 7), datetime.date(2017, 8, 8), datetime.date(2017, 8, 9)]\n",
      "-------------------------------------------------------------------------------------\n",
      "Trip Date Range (Month and Day) from last year based on Trip Date: \n",
      " ['08-01', '08-02', '08-03', '08-04', '08-05', '08-06', '08-07', '08-08', '08-09']\n",
      "-------------------------------------------------------------------------------------\n",
      "Daily Normals (Min, Avg, Max) based on Trip Date Range: \n",
      " [(67.0, 75.54, 83.0), (68.0, 75.60377358490567, 84.0), (70.0, 76.61111111111111, 85.0), (69.0, 76.71153846153847, 84.0), (69.0, 76.14814814814815, 82.0), (67.0, 76.25, 83.0), (71.0, 77.15686274509804, 83.0), (68.0, 76.5576923076923, 83.0), (69.0, 75.98039215686275, 81.0)]\n"
     ]
    },
    {
     "data": {
      "application/javascript": [
       "\n",
       "            setTimeout(function() {\n",
       "                var nbb_cell_id = 31;\n",
       "                var nbb_unformatted_code = \"# calculate the daily normals for your trip\\n# push each tuple of calculations into a list called `normals`\\n\\n# Set the start and end date of the trip\\nprint(\\\"Trip Start Date is: \\\", trip_start_date)\\nprint(\\\"Trip End Date is: \\\", trip_end_date)\\nprint(\\\"--------------------------------------------------------------------------\\\")\\n\\nt1 = datetime.date(2018, 8, 1) - datetime.timedelta(days=365)\\nprint(\\\"Start Date from previous year based on 'trip start date' is: \\\", t1)\\n\\nt2 = datetime.date(2018, 8, 10) - datetime.timedelta(days=365)\\nprint(\\\"End Date from previous year based on 'trip end date' is: \\\", t2)\\nprint(\\\"--------------------------------------------------------------------------\\\")\\n\\nnum_of_trip_days = t2 - t1\\nprint(\\\"Number of Trip Days is: \\\", num_of_trip_days)\\nprint(\\\"--------------------------------------------------------------------------\\\")\\n\\n# ================================================================================================================\\n\\ntrip_date_range = []\\n\\nwhile t1 < t2:\\n    trip_date_range.append(t1)\\n    t1 += datetime.timedelta(days=1)\\n\\nprint(\\n    \\\"Date Range (including Year) from last year based on Trip Date: \\\\n\\\", trip_date_range\\n)\\nprint(\\n    \\\"-------------------------------------------------------------------------------------\\\"\\n)\\n\\n# Strip off the year and save a list of %m-%d strings\\ni = 0\\nwhile i < (len(trip_date_range)):\\n    trip_date_range[i] = trip_date_range[i].strftime(\\\"%m-%d\\\")\\n    i += 1\\n\\nprint(\\n    \\\"Trip Date Range (Month and Day) from last year based on Trip Date: \\\\n\\\",\\n    trip_date_range,\\n)\\nprint(\\n    \\\"-------------------------------------------------------------------------------------\\\"\\n)\\n\\n# Loop through the list of %m-%d strings and calculate the normals for each date\\nnormals = []\\nfor date in trip_date_range:\\n    normals.append(daily_normals(date)[0])\\n\\nprint(\\\"Daily Normals (Min, Avg, Max) based on Trip Date Range: \\\\n\\\", normals)\";\n",
       "                var nbb_formatted_code = \"# calculate the daily normals for your trip\\n# push each tuple of calculations into a list called `normals`\\n\\n# Set the start and end date of the trip\\nprint(\\\"Trip Start Date is: \\\", trip_start_date)\\nprint(\\\"Trip End Date is: \\\", trip_end_date)\\nprint(\\\"--------------------------------------------------------------------------\\\")\\n\\nt1 = datetime.date(2018, 8, 1) - datetime.timedelta(days=365)\\nprint(\\\"Start Date from previous year based on 'trip start date' is: \\\", t1)\\n\\nt2 = datetime.date(2018, 8, 10) - datetime.timedelta(days=365)\\nprint(\\\"End Date from previous year based on 'trip end date' is: \\\", t2)\\nprint(\\\"--------------------------------------------------------------------------\\\")\\n\\nnum_of_trip_days = t2 - t1\\nprint(\\\"Number of Trip Days is: \\\", num_of_trip_days)\\nprint(\\\"--------------------------------------------------------------------------\\\")\\n\\n# ================================================================================================================\\n\\ntrip_date_range = []\\n\\nwhile t1 < t2:\\n    trip_date_range.append(t1)\\n    t1 += datetime.timedelta(days=1)\\n\\nprint(\\n    \\\"Date Range (including Year) from last year based on Trip Date: \\\\n\\\", trip_date_range\\n)\\nprint(\\n    \\\"-------------------------------------------------------------------------------------\\\"\\n)\\n\\n# Strip off the year and save a list of %m-%d strings\\ni = 0\\nwhile i < (len(trip_date_range)):\\n    trip_date_range[i] = trip_date_range[i].strftime(\\\"%m-%d\\\")\\n    i += 1\\n\\nprint(\\n    \\\"Trip Date Range (Month and Day) from last year based on Trip Date: \\\\n\\\",\\n    trip_date_range,\\n)\\nprint(\\n    \\\"-------------------------------------------------------------------------------------\\\"\\n)\\n\\n# Loop through the list of %m-%d strings and calculate the normals for each date\\nnormals = []\\nfor date in trip_date_range:\\n    normals.append(daily_normals(date)[0])\\n\\nprint(\\\"Daily Normals (Min, Avg, Max) based on Trip Date Range: \\\\n\\\", normals)\";\n",
       "                var nbb_cells = Jupyter.notebook.get_cells();\n",
       "                for (var i = 0; i < nbb_cells.length; ++i) {\n",
       "                    if (nbb_cells[i].input_prompt_number == nbb_cell_id) {\n",
       "                        if (nbb_cells[i].get_text() == nbb_unformatted_code) {\n",
       "                             nbb_cells[i].set_text(nbb_formatted_code);\n",
       "                        }\n",
       "                        break;\n",
       "                    }\n",
       "                }\n",
       "            }, 500);\n",
       "            "
      ],
      "text/plain": [
       "<IPython.core.display.Javascript object>"
      ]
     },
     "metadata": {},
     "output_type": "display_data"
    }
   ],
   "source": [
    "# calculate the daily normals for your trip\n",
    "# push each tuple of calculations into a list called `normals`\n",
    "\n",
    "# Set the start and end date of the trip\n",
    "print(\"Trip Start Date is: \", trip_start_date)\n",
    "print(\"Trip End Date is: \", trip_end_date)\n",
    "print(\"--------------------------------------------------------------------------\")\n",
    "\n",
    "t1 = datetime.date(2018, 8, 1) - datetime.timedelta(days=365)\n",
    "print(\"Start Date from previous year based on 'trip start date' is: \", t1)\n",
    "\n",
    "t2 = datetime.date(2018, 8, 10) - datetime.timedelta(days=365)\n",
    "print(\"End Date from previous year based on 'trip end date' is: \", t2)\n",
    "print(\"--------------------------------------------------------------------------\")\n",
    "\n",
    "num_of_trip_days = t2 - t1\n",
    "print(\"Number of Trip Days is: \", num_of_trip_days)\n",
    "print(\"--------------------------------------------------------------------------\")\n",
    "\n",
    "# ================================================================================================================\n",
    "\n",
    "trip_date_range = []\n",
    "\n",
    "while t1 < t2:\n",
    "    trip_date_range.append(t1)\n",
    "    t1 += datetime.timedelta(days=1)\n",
    "\n",
    "print(\n",
    "    \"Date Range (including Year) from last year based on Trip Date: \\n\", trip_date_range\n",
    ")\n",
    "print(\n",
    "    \"-------------------------------------------------------------------------------------\"\n",
    ")\n",
    "\n",
    "# Strip off the year and save a list of %m-%d strings\n",
    "i = 0\n",
    "while i < (len(trip_date_range)):\n",
    "    trip_date_range[i] = trip_date_range[i].strftime(\"%m-%d\")\n",
    "    i += 1\n",
    "\n",
    "print(\n",
    "    \"Trip Date Range (Month and Day) from last year based on Trip Date: \\n\",\n",
    "    trip_date_range,\n",
    ")\n",
    "print(\n",
    "    \"-------------------------------------------------------------------------------------\"\n",
    ")\n",
    "\n",
    "# Loop through the list of %m-%d strings and calculate the normals for each date\n",
    "normals = []\n",
    "for date in trip_date_range:\n",
    "    normals.append(daily_normals(date)[0])\n",
    "\n",
    "print(\"Daily Normals (Min, Avg, Max) based on Trip Date Range: \\n\", normals)"
   ]
  },
  {
   "cell_type": "code",
   "execution_count": 32,
   "metadata": {},
   "outputs": [
    {
     "data": {
      "text/html": [
       "<div>\n",
       "<style scoped>\n",
       "    .dataframe tbody tr th:only-of-type {\n",
       "        vertical-align: middle;\n",
       "    }\n",
       "\n",
       "    .dataframe tbody tr th {\n",
       "        vertical-align: top;\n",
       "    }\n",
       "\n",
       "    .dataframe thead th {\n",
       "        text-align: right;\n",
       "    }\n",
       "</style>\n",
       "<table border=\"1\" class=\"dataframe\">\n",
       "  <thead>\n",
       "    <tr style=\"text-align: right;\">\n",
       "      <th></th>\n",
       "      <th>min</th>\n",
       "      <th>avg</th>\n",
       "      <th>max</th>\n",
       "    </tr>\n",
       "    <tr>\n",
       "      <th>trip_dates</th>\n",
       "      <th></th>\n",
       "      <th></th>\n",
       "      <th></th>\n",
       "    </tr>\n",
       "  </thead>\n",
       "  <tbody>\n",
       "    <tr>\n",
       "      <th>08-01</th>\n",
       "      <td>67.0</td>\n",
       "      <td>75.540000</td>\n",
       "      <td>83.0</td>\n",
       "    </tr>\n",
       "    <tr>\n",
       "      <th>08-02</th>\n",
       "      <td>68.0</td>\n",
       "      <td>75.603774</td>\n",
       "      <td>84.0</td>\n",
       "    </tr>\n",
       "    <tr>\n",
       "      <th>08-03</th>\n",
       "      <td>70.0</td>\n",
       "      <td>76.611111</td>\n",
       "      <td>85.0</td>\n",
       "    </tr>\n",
       "    <tr>\n",
       "      <th>08-04</th>\n",
       "      <td>69.0</td>\n",
       "      <td>76.711538</td>\n",
       "      <td>84.0</td>\n",
       "    </tr>\n",
       "    <tr>\n",
       "      <th>08-05</th>\n",
       "      <td>69.0</td>\n",
       "      <td>76.148148</td>\n",
       "      <td>82.0</td>\n",
       "    </tr>\n",
       "    <tr>\n",
       "      <th>08-06</th>\n",
       "      <td>67.0</td>\n",
       "      <td>76.250000</td>\n",
       "      <td>83.0</td>\n",
       "    </tr>\n",
       "    <tr>\n",
       "      <th>08-07</th>\n",
       "      <td>71.0</td>\n",
       "      <td>77.156863</td>\n",
       "      <td>83.0</td>\n",
       "    </tr>\n",
       "    <tr>\n",
       "      <th>08-08</th>\n",
       "      <td>68.0</td>\n",
       "      <td>76.557692</td>\n",
       "      <td>83.0</td>\n",
       "    </tr>\n",
       "    <tr>\n",
       "      <th>08-09</th>\n",
       "      <td>69.0</td>\n",
       "      <td>75.980392</td>\n",
       "      <td>81.0</td>\n",
       "    </tr>\n",
       "  </tbody>\n",
       "</table>\n",
       "</div>"
      ],
      "text/plain": [
       "             min        avg   max\n",
       "trip_dates                       \n",
       "08-01       67.0  75.540000  83.0\n",
       "08-02       68.0  75.603774  84.0\n",
       "08-03       70.0  76.611111  85.0\n",
       "08-04       69.0  76.711538  84.0\n",
       "08-05       69.0  76.148148  82.0\n",
       "08-06       67.0  76.250000  83.0\n",
       "08-07       71.0  77.156863  83.0\n",
       "08-08       68.0  76.557692  83.0\n",
       "08-09       69.0  75.980392  81.0"
      ]
     },
     "execution_count": 32,
     "metadata": {},
     "output_type": "execute_result"
    },
    {
     "data": {
      "application/javascript": [
       "\n",
       "            setTimeout(function() {\n",
       "                var nbb_cell_id = 32;\n",
       "                var nbb_unformatted_code = \"# Load the previous query results into a Pandas DataFrame and add the `trip_dates` range as the `date` index\\ntrip_normals_df = (\\n    pd.DataFrame(np.array(normals), columns=[\\\"min\\\", \\\"avg\\\", \\\"max\\\"])\\n    .assign(trip_dates=trip_date_range)\\n    .set_index(\\\"trip_dates\\\")\\n)\\ntrip_normals_df\";\n",
       "                var nbb_formatted_code = \"# Load the previous query results into a Pandas DataFrame and add the `trip_dates` range as the `date` index\\ntrip_normals_df = (\\n    pd.DataFrame(np.array(normals), columns=[\\\"min\\\", \\\"avg\\\", \\\"max\\\"])\\n    .assign(trip_dates=trip_date_range)\\n    .set_index(\\\"trip_dates\\\")\\n)\\ntrip_normals_df\";\n",
       "                var nbb_cells = Jupyter.notebook.get_cells();\n",
       "                for (var i = 0; i < nbb_cells.length; ++i) {\n",
       "                    if (nbb_cells[i].input_prompt_number == nbb_cell_id) {\n",
       "                        if (nbb_cells[i].get_text() == nbb_unformatted_code) {\n",
       "                             nbb_cells[i].set_text(nbb_formatted_code);\n",
       "                        }\n",
       "                        break;\n",
       "                    }\n",
       "                }\n",
       "            }, 500);\n",
       "            "
      ],
      "text/plain": [
       "<IPython.core.display.Javascript object>"
      ]
     },
     "metadata": {},
     "output_type": "display_data"
    }
   ],
   "source": [
    "# Load the previous query results into a Pandas DataFrame and add the `trip_dates` range as the `date` index\n",
    "trip_normals_df = (\n",
    "    pd.DataFrame(np.array(normals), columns=[\"min\", \"avg\", \"max\"])\n",
    "    .assign(trip_dates=trip_date_range)\n",
    "    .set_index(\"trip_dates\")\n",
    ")\n",
    "trip_normals_df"
   ]
  },
  {
   "cell_type": "code",
   "execution_count": 33,
   "metadata": {},
   "outputs": [
    {
     "data": {
      "image/png": "[encoded data removed]",
      "text/plain": [
       "<Figure size 576x360 with 1 Axes>"
      ]
     },
     "metadata": {
      "needs_background": "light"
     },
     "output_type": "display_data"
    },
    {
     "data": {
      "application/javascript": [
       "\n",
       "            setTimeout(function() {\n",
       "                var nbb_cell_id = 33;\n",
       "                var nbb_unformatted_code = \"# Plot the daily normals as an area plot with `stacked=False`\\ntrip_normals_df.plot(kind=\\\"area\\\", figsize=(8, 5), stacked=False, alpha=0.5)\\nplt.xlabel(\\\"Date Range\\\")\\nplt.ylabel(f\\\"Temperature{degree_sign}F\\\")\\nplt.legend(loc=\\\"upper right\\\")\\nplt.title(f\\\"Daily Normals for Temperature Observations in {degree_sign}F\\\")\\nplt.show()\";\n",
       "                var nbb_formatted_code = \"# Plot the daily normals as an area plot with `stacked=False`\\ntrip_normals_df.plot(kind=\\\"area\\\", figsize=(8, 5), stacked=False, alpha=0.5)\\nplt.xlabel(\\\"Date Range\\\")\\nplt.ylabel(f\\\"Temperature{degree_sign}F\\\")\\nplt.legend(loc=\\\"upper right\\\")\\nplt.title(f\\\"Daily Normals for Temperature Observations in {degree_sign}F\\\")\\nplt.show()\";\n",
       "                var nbb_cells = Jupyter.notebook.get_cells();\n",
       "                for (var i = 0; i < nbb_cells.length; ++i) {\n",
       "                    if (nbb_cells[i].input_prompt_number == nbb_cell_id) {\n",
       "                        if (nbb_cells[i].get_text() == nbb_unformatted_code) {\n",
       "                             nbb_cells[i].set_text(nbb_formatted_code);\n",
       "                        }\n",
       "                        break;\n",
       "                    }\n",
       "                }\n",
       "            }, 500);\n",
       "            "
      ],
      "text/plain": [
       "<IPython.core.display.Javascript object>"
      ]
     },
     "metadata": {},
     "output_type": "display_data"
    }
   ],
   "source": [
    "# Plot the daily normals as an area plot with `stacked=False`\n",
    "trip_normals_df.plot(kind=\"area\", figsize=(8, 5), stacked=False, alpha=0.5)\n",
    "plt.xlabel(\"Date Range\")\n",
    "plt.ylabel(f\"Temperature{degree_sign}F\")\n",
    "plt.legend(loc=\"upper right\")\n",
    "plt.title(f\"Daily Normals for Temperature Observations in {degree_sign}F\")\n",
    "plt.show()"
   ]
  }
 ],
 "metadata": {
  "kernel_info": {
   "name": "python3"
  },
  "kernelspec": {
   "display_name": "climate_sqlalchemy",
   "language": "python",
   "name": "climate_sqlalchemy"
  },
  "language_info": {
   "codemirror_mode": {
    "name": "ipython",
    "version": 3
   },
   "file_extension": ".py",
   "mimetype": "text/x-python",
   "name": "python",
   "nbconvert_exporter": "python",
   "pygments_lexer": "ipython3",
   "version": "3.7.5"
  },
  "nteract": {
   "version": "0.12.3"
  },
  "varInspector": {
   "cols": {
    "lenName": 16,
    "lenType": 16,
    "lenVar": 40
   },
   "kernels_config": {
    "python": {
     "delete_cmd_postfix": "",
     "delete_cmd_prefix": "del ",
     "library": "var_list.py",
     "varRefreshCmd": "print(var_dic_list())"
    },
    "r": {
     "delete_cmd_postfix": ") ",
     "delete_cmd_prefix": "rm(",
     "library": "var_list.r",
     "varRefreshCmd": "cat(var_dic_list()) "
    }
   },
   "types_to_exclude": [
    "module",
    "function",
    "builtin_function_or_method",
    "instance",
    "_Feature"
   ],
   "window_display": false
  }
 },
 "nbformat": 4,
 "nbformat_minor": 2
}
